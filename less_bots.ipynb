{
 "cells": [
  {
   "cell_type": "markdown",
   "metadata": {
    "id": "LWd1UlMnhT2s"
   },
   "source": [
    "## Importing the libraries"
   ]
  },
  {
   "cell_type": "code",
   "execution_count": 1,
   "metadata": {
    "executionInfo": {
     "elapsed": 669,
     "status": "ok",
     "timestamp": 1608017888603,
     "user": {
      "displayName": "Shan Ali",
      "photoUrl": "https://lh3.googleusercontent.com/a-/AOh14Gh3aQprFkCQ0-5AIz6GbtMQqSuTNzJejMdIv9a1=s64",
      "userId": "03005408048802988275"
     },
     "user_tz": 0
    },
    "id": "YvGPUQaHhXfL"
   },
   "outputs": [],
   "source": [
    "import importlib\n",
    "import header\n",
    "importlib.reload(header)\n",
    "from header import *"
   ]
  },
  {
   "cell_type": "markdown",
   "metadata": {
    "id": "YvxIPVyMhmKp"
   },
   "source": [
    "## Splitting the dataset into the Training set and Test set"
   ]
  },
  {
   "cell_type": "code",
   "execution_count": 2,
   "metadata": {
    "colab": {
     "base_uri": "https://localhost:8080/"
    },
    "executionInfo": {
     "elapsed": 1781,
     "status": "ok",
     "timestamp": 1608018088553,
     "user": {
      "displayName": "Shan Ali",
      "photoUrl": "https://lh3.googleusercontent.com/a-/AOh14Gh3aQprFkCQ0-5AIz6GbtMQqSuTNzJejMdIv9a1=s64",
      "userId": "03005408048802988275"
     },
     "user_tz": 0
    },
    "id": "AVzJWAXIhxoC",
    "outputId": "fd2c856b-4c47-42fa-f5a6-fb013e69bc95"
   },
   "outputs": [
    {
     "name": "stdout",
     "output_type": "stream",
     "text": [
      "(248677, 61)\n"
     ]
    }
   ],
   "source": [
    "dataset = pd.read_csv('./datasets/virut.csv')\n",
    "print(dataset.shape)\n",
    "# selection of all columns except label class with label = 0\n",
    "X = dataset.iloc[:, :-1].values\n",
    "# selection of only label class with label = 1\n",
    "y = dataset.iloc[:, -1].values\n",
    "\n",
    "X_train, X_test, y_train, y_test = train_test_split(X, y, test_size = 0.30)"
   ]
  },
  {
   "cell_type": "markdown",
   "metadata": {
    "id": "bb6jCOCQiAmP"
   },
   "source": [
    "## Support vector machine (SVM) - tarining of model"
   ]
  },
  {
   "cell_type": "code",
   "execution_count": 5,
   "metadata": {
    "executionInfo": {
     "elapsed": 1878,
     "status": "ok",
     "timestamp": 1608015177928,
     "user": {
      "displayName": "Shan Ali",
      "photoUrl": "https://lh3.googleusercontent.com/a-/AOh14Gh3aQprFkCQ0-5AIz6GbtMQqSuTNzJejMdIv9a1=s64",
      "userId": "03005408048802988275"
     },
     "user_tz": 0
    },
    "id": "e0pFVAmciHQs"
   },
   "outputs": [
    {
     "name": "stderr",
     "output_type": "stream",
     "text": [
      "C:\\Users\\shan-\\anaconda3\\lib\\site-packages\\sklearn\\svm\\_base.py:976: ConvergenceWarning: Liblinear failed to converge, increase the number of iterations.\n",
      "  warnings.warn(\"Liblinear failed to converge, increase \"\n"
     ]
    },
    {
     "data": {
      "text/plain": [
       "Pipeline(steps=[('standardscaler', StandardScaler()),\n",
       "                ('linearsvc', LinearSVC(random_state=0, tol=1e-05))])"
      ]
     },
     "execution_count": 5,
     "metadata": {},
     "output_type": "execute_result"
    }
   ],
   "source": [
    "# classifier_svm = SVC(kernel = 'linear', random_state = 0)\n",
    "# classifier_svm.fit(X_train, y_train)\n",
    "from sklearn.pipeline import make_pipeline\n",
    "from sklearn.preprocessing import StandardScaler\n",
    "from sklearn.svm import LinearSVC\n",
    "\n",
    "clf = make_pipeline(StandardScaler(), LinearSVC(random_state=0, tol=1e-5))\n",
    "clf.fit(X_train, y_train)"
   ]
  },
  {
   "cell_type": "markdown",
   "metadata": {
    "id": "9WU6dSHEiW33"
   },
   "source": [
    "## K-Nearest Neighbors (K-NN) model tarining"
   ]
  },
  {
   "cell_type": "code",
   "execution_count": 4,
   "metadata": {
    "colab": {
     "base_uri": "https://localhost:8080/"
    },
    "executionInfo": {
     "elapsed": 7812,
     "status": "ok",
     "timestamp": 1608015183872,
     "user": {
      "displayName": "Shan Ali",
      "photoUrl": "https://lh3.googleusercontent.com/a-/AOh14Gh3aQprFkCQ0-5AIz6GbtMQqSuTNzJejMdIv9a1=s64",
      "userId": "03005408048802988275"
     },
     "user_tz": 0
    },
    "id": "en2OxQqhDkHw",
    "outputId": "2fb3133d-c8d5-4d67-9ef3-9f74c5376fff"
   },
   "outputs": [
    {
     "data": {
      "text/plain": [
       "KNeighborsClassifier()"
      ]
     },
     "execution_count": 4,
     "metadata": {},
     "output_type": "execute_result"
    }
   ],
   "source": [
    "classifier_knn = KNeighborsClassifier(n_neighbors = 5, metric = 'minkowski', p = 2)\n",
    "classifier_knn.fit(X_train, y_train)"
   ]
  },
  {
   "cell_type": "markdown",
   "metadata": {
    "id": "qFmto2nYicBg"
   },
   "source": [
    "## Decision Tree Classification - tarining of model"
   ]
  },
  {
   "cell_type": "code",
   "execution_count": 5,
   "metadata": {
    "colab": {
     "base_uri": "https://localhost:8080/"
    },
    "executionInfo": {
     "elapsed": 9235,
     "status": "ok",
     "timestamp": 1608015185306,
     "user": {
      "displayName": "Shan Ali",
      "photoUrl": "https://lh3.googleusercontent.com/a-/AOh14Gh3aQprFkCQ0-5AIz6GbtMQqSuTNzJejMdIv9a1=s64",
      "userId": "03005408048802988275"
     },
     "user_tz": 0
    },
    "id": "XskhDuXmD-Hg",
    "outputId": "89dc986f-12e0-4b27-9f8c-fc62b4699d74"
   },
   "outputs": [
    {
     "data": {
      "text/plain": [
       "DecisionTreeClassifier(criterion='entropy', random_state=0)"
      ]
     },
     "execution_count": 5,
     "metadata": {},
     "output_type": "execute_result"
    }
   ],
   "source": [
    "classifier_dt = DecisionTreeClassifier(criterion = 'entropy', random_state = 0)\n",
    "classifier_dt.fit(X_train, y_train)"
   ]
  },
  {
   "cell_type": "markdown",
   "metadata": {
    "id": "1NGMI_P8igoQ"
   },
   "source": [
    "## LogisticRegression - tarining of model"
   ]
  },
  {
   "cell_type": "code",
   "execution_count": 6,
   "metadata": {
    "colab": {
     "base_uri": "https://localhost:8080/"
    },
    "executionInfo": {
     "elapsed": 11437,
     "status": "ok",
     "timestamp": 1608015187519,
     "user": {
      "displayName": "Shan Ali",
      "photoUrl": "https://lh3.googleusercontent.com/a-/AOh14Gh3aQprFkCQ0-5AIz6GbtMQqSuTNzJejMdIv9a1=s64",
      "userId": "03005408048802988275"
     },
     "user_tz": 0
    },
    "id": "4ad2bKF7EW6J",
    "outputId": "64fd05f7-8b21-4f14-ba2b-ef7c257a071a"
   },
   "outputs": [
    {
     "name": "stderr",
     "output_type": "stream",
     "text": [
      "C:\\Users\\shan-\\anaconda3\\lib\\site-packages\\sklearn\\linear_model\\_logistic.py:762: ConvergenceWarning: lbfgs failed to converge (status=1):\n",
      "STOP: TOTAL NO. of ITERATIONS REACHED LIMIT.\n",
      "\n",
      "Increase the number of iterations (max_iter) or scale the data as shown in:\n",
      "    https://scikit-learn.org/stable/modules/preprocessing.html\n",
      "Please also refer to the documentation for alternative solver options:\n",
      "    https://scikit-learn.org/stable/modules/linear_model.html#logistic-regression\n",
      "  n_iter_i = _check_optimize_result(\n"
     ]
    },
    {
     "data": {
      "text/plain": [
       "LogisticRegression()"
      ]
     },
     "execution_count": 6,
     "metadata": {},
     "output_type": "execute_result"
    }
   ],
   "source": [
    "classifier_lr = LogisticRegression()\n",
    "classifier_lr.fit(X_train, y_train)"
   ]
  },
  {
   "cell_type": "markdown",
   "metadata": {
    "id": "C_-1pQzjikN7"
   },
   "source": [
    "## Naive Bayse - tarining of model\n"
   ]
  },
  {
   "cell_type": "code",
   "execution_count": 7,
   "metadata": {
    "colab": {
     "base_uri": "https://localhost:8080/"
    },
    "executionInfo": {
     "elapsed": 11428,
     "status": "ok",
     "timestamp": 1608015187522,
     "user": {
      "displayName": "Shan Ali",
      "photoUrl": "https://lh3.googleusercontent.com/a-/AOh14Gh3aQprFkCQ0-5AIz6GbtMQqSuTNzJejMdIv9a1=s64",
      "userId": "03005408048802988275"
     },
     "user_tz": 0
    },
    "id": "uwDiIlWgFQfy",
    "outputId": "2c6f1545-fa2b-4cd0-a6b5-fee0a12a981e"
   },
   "outputs": [
    {
     "data": {
      "text/plain": [
       "GaussianNB()"
      ]
     },
     "execution_count": 7,
     "metadata": {},
     "output_type": "execute_result"
    }
   ],
   "source": [
    "classifier_nb = GaussianNB()\n",
    "classifier_nb.fit(X_train, y_train)"
   ]
  },
  {
   "cell_type": "markdown",
   "metadata": {
    "id": "5IU-zlfiin6G"
   },
   "source": [
    "## Random forest - tarining of model"
   ]
  },
  {
   "cell_type": "code",
   "execution_count": 8,
   "metadata": {
    "colab": {
     "base_uri": "https://localhost:8080/"
    },
    "executionInfo": {
     "elapsed": 13036,
     "status": "ok",
     "timestamp": 1608015189141,
     "user": {
      "displayName": "Shan Ali",
      "photoUrl": "https://lh3.googleusercontent.com/a-/AOh14Gh3aQprFkCQ0-5AIz6GbtMQqSuTNzJejMdIv9a1=s64",
      "userId": "03005408048802988275"
     },
     "user_tz": 0
    },
    "id": "WOx0CpvLFeS_",
    "outputId": "99cbd9f8-c199-4ebb-963e-440bf94a1833"
   },
   "outputs": [
    {
     "data": {
      "text/plain": [
       "RandomForestClassifier(criterion='entropy', n_estimators=10, random_state=0)"
      ]
     },
     "execution_count": 8,
     "metadata": {},
     "output_type": "execute_result"
    }
   ],
   "source": [
    "classifier_rf = RandomForestClassifier(n_estimators = 10, criterion = 'entropy', random_state = 0)\n",
    "classifier_rf.fit(X_train, y_train)"
   ]
  },
  {
   "cell_type": "markdown",
   "metadata": {
    "id": "GEUVFQUMiqRi"
   },
   "source": [
    "# XGBoost - training of model"
   ]
  },
  {
   "cell_type": "code",
   "execution_count": 9,
   "metadata": {
    "colab": {
     "base_uri": "https://localhost:8080/"
    },
    "executionInfo": {
     "elapsed": 33602,
     "status": "ok",
     "timestamp": 1608015209720,
     "user": {
      "displayName": "Shan Ali",
      "photoUrl": "https://lh3.googleusercontent.com/a-/AOh14Gh3aQprFkCQ0-5AIz6GbtMQqSuTNzJejMdIv9a1=s64",
      "userId": "03005408048802988275"
     },
     "user_tz": 0
    },
    "id": "y8yw3EmhVlXs",
    "outputId": "2f7a80b0-347a-47c2-a126-c8cf769d285b"
   },
   "outputs": [],
   "source": [
    "# classifier_xgb = XGBClassifier()\n",
    "# classifier_xgb.fit(X_train, y_train)"
   ]
  },
  {
   "cell_type": "markdown",
   "metadata": {
    "id": "h4Hwj34ziWQW"
   },
   "source": [
    "## Making the Confusion matrices of all models\n"
   ]
  },
  {
   "cell_type": "markdown",
   "metadata": {
    "id": "M94csWX-itzF"
   },
   "source": [
    "## Model Evaluation - SVM "
   ]
  },
  {
   "cell_type": "code",
   "execution_count": 6,
   "metadata": {
    "executionInfo": {
     "elapsed": 33595,
     "status": "ok",
     "timestamp": 1608015209723,
     "user": {
      "displayName": "Shan Ali",
      "photoUrl": "https://lh3.googleusercontent.com/a-/AOh14Gh3aQprFkCQ0-5AIz6GbtMQqSuTNzJejMdIv9a1=s64",
      "userId": "03005408048802988275"
     },
     "user_tz": 0
    },
    "id": "D6bpZwUiiXic"
   },
   "outputs": [
    {
     "name": "stdout",
     "output_type": "stream",
     "text": [
      "Accuracy:  0.9952817543295266\n",
      "Precision:  0.92\n",
      "Recall 0.4092526690391459\n"
     ]
    },
    {
     "data": {
      "image/png": "[encoded data removed]",
      "text/plain": [
       "<Figure size 504x360 with 2 Axes>"
      ]
     },
     "metadata": {
      "needs_background": "light"
     },
     "output_type": "display_data"
    }
   ],
   "source": [
    "y_pred = clf.predict(X_test)\n",
    "cm = confusion_matrix(y_test, y_pred)\n",
    "acc = accuracy_score(y_test, y_pred)\n",
    "precision = precision_score(y_test, y_pred)\n",
    "recall = recall_score(y_test, y_pred)\n",
    "\n",
    "print('Accuracy: ', acc)\n",
    "print('Precision: ',precision)\n",
    "print('Recall', recall)\n",
    "\n",
    "df_cm = pd.DataFrame(cm, range(2), range(2))\n",
    "plt.figure(figsize=(7,5))\n",
    "sns.set(font_scale=1.4) # label size\n",
    "cm_plot = sns.heatmap(df_cm, annot=True, fmt='n', annot_kws={\"size\": 12})"
   ]
  },
  {
   "cell_type": "markdown",
   "metadata": {
    "id": "6x5nuBu8jE4n"
   },
   "source": [
    "## Model Evaluation - K-NN "
   ]
  },
  {
   "cell_type": "code",
   "execution_count": 11,
   "metadata": {
    "executionInfo": {
     "elapsed": 767,
     "status": "ok",
     "timestamp": 1608021548480,
     "user": {
      "displayName": "Shan Ali",
      "photoUrl": "https://lh3.googleusercontent.com/a-/AOh14Gh3aQprFkCQ0-5AIz6GbtMQqSuTNzJejMdIv9a1=s64",
      "userId": "03005408048802988275"
     },
     "user_tz": 0
    },
    "id": "O7J2XnF1RIHJ",
    "scrolled": false
   },
   "outputs": [
    {
     "name": "stdout",
     "output_type": "stream",
     "text": [
      "Accuracy:  0.9978419387700391\n",
      "Precision:  0.8848758465011287\n",
      "Recall 0.7808764940239044\n"
     ]
    },
    {
     "data": {
      "image/png": "[encoded data removed]",
      "text/plain": [
       "<Figure size 504x360 with 2 Axes>"
      ]
     },
     "metadata": {
      "needs_background": "light"
     },
     "output_type": "display_data"
    }
   ],
   "source": [
    "y_pred = classifier_knn.predict(X_test)\n",
    "cm = confusion_matrix(y_test, y_pred)\n",
    "acc = accuracy_score(y_test, y_pred)\n",
    "precision = precision_score(y_test, y_pred)\n",
    "recall = recall_score(y_test, y_pred)\n",
    "\n",
    "print('Accuracy: ', acc)\n",
    "print('Precision: ',precision)\n",
    "print('Recall', recall)\n",
    "\n",
    "df_cm = pd.DataFrame(cm, range(2), range(2))\n",
    "plt.figure(figsize=(7,5))\n",
    "sns.set(font_scale=1.4) # label size\n",
    "cm_plot = sns.heatmap(df_cm, annot=True, fmt='n', annot_kws={\"size\": 12})"
   ]
  },
  {
   "cell_type": "markdown",
   "metadata": {
    "id": "3HmDP8GLkBZ-"
   },
   "source": [
    "## Model Evaluation - Logistic Regression\n"
   ]
  },
  {
   "cell_type": "code",
   "execution_count": 12,
   "metadata": {
    "executionInfo": {
     "elapsed": 37806,
     "status": "aborted",
     "timestamp": 1608015214004,
     "user": {
      "displayName": "Shan Ali",
      "photoUrl": "https://lh3.googleusercontent.com/a-/AOh14Gh3aQprFkCQ0-5AIz6GbtMQqSuTNzJejMdIv9a1=s64",
      "userId": "03005408048802988275"
     },
     "user_tz": 0
    },
    "id": "wF2yzDMVRI7A",
    "scrolled": false
   },
   "outputs": [
    {
     "name": "stdout",
     "output_type": "stream",
     "text": [
      "Accuracy:  0.9947455900487909\n",
      "Precision:  0.8819444444444444\n",
      "Recall 0.25298804780876494\n"
     ]
    },
    {
     "data": {
      "image/png": "[encoded data removed]",
      "text/plain": [
       "<Figure size 504x360 with 2 Axes>"
      ]
     },
     "metadata": {},
     "output_type": "display_data"
    }
   ],
   "source": [
    "y_pred = classifier_lr.predict(X_test)\n",
    "cm = confusion_matrix(y_test, y_pred)\n",
    "acc = accuracy_score(y_test, y_pred)\n",
    "precision = precision_score(y_test, y_pred)\n",
    "recall = recall_score(y_test, y_pred)\n",
    "\n",
    "print('Accuracy: ', acc)\n",
    "print('Precision: ',precision)\n",
    "print('Recall', recall)\n",
    "\n",
    "df_cm = pd.DataFrame(cm, range(2), range(2))\n",
    "plt.figure(figsize=(7,5))\n",
    "sns.set(font_scale=1.4) # label size\n",
    "cm_plot = sns.heatmap(df_cm, annot=True, fmt='n', annot_kws={\"size\": 12})\n",
    "\n",
    "acc = int(float(str(acc))*100)\n",
    "precision = int(float(str(precision))*100)\n",
    "recall = int(float(str(recall))*100)\n"
   ]
  },
  {
   "cell_type": "markdown",
   "metadata": {
    "id": "ZnINBBqMkHr8"
   },
   "source": [
    "## Model Evaluation - Naive Bayes\n"
   ]
  },
  {
   "cell_type": "code",
   "execution_count": 13,
   "metadata": {
    "executionInfo": {
     "elapsed": 37789,
     "status": "aborted",
     "timestamp": 1608015214006,
     "user": {
      "displayName": "Shan Ali",
      "photoUrl": "https://lh3.googleusercontent.com/a-/AOh14Gh3aQprFkCQ0-5AIz6GbtMQqSuTNzJejMdIv9a1=s64",
      "userId": "03005408048802988275"
     },
     "user_tz": 0
    },
    "id": "AVopPoy2RJZQ"
   },
   "outputs": [
    {
     "name": "stdout",
     "output_type": "stream",
     "text": [
      "Accuracy:  0.3683850731864243\n",
      "Precision:  0.010253177854816683\n",
      "Recall 0.9721115537848606\n"
     ]
    },
    {
     "data": {
      "image/png": "[encoded data removed]",
      "text/plain": [
       "<Figure size 504x360 with 2 Axes>"
      ]
     },
     "metadata": {},
     "output_type": "display_data"
    }
   ],
   "source": [
    "y_pred = classifier_nb.predict(X_test)\n",
    "cm = confusion_matrix(y_test, y_pred)\n",
    "acc = accuracy_score(y_test, y_pred)\n",
    "precision = precision_score(y_test, y_pred)\n",
    "recall = recall_score(y_test, y_pred)\n",
    "\n",
    "print('Accuracy: ', acc)\n",
    "print('Precision: ',precision)\n",
    "print('Recall', recall)\n",
    "\n",
    "df_cm = pd.DataFrame(cm, range(2), range(2))\n",
    "plt.figure(figsize=(7,5))\n",
    "sns.set(font_scale=1.4) # label size\n",
    "cm_plot = sns.heatmap(df_cm, annot=True, fmt='n', annot_kws={\"size\": 12})"
   ]
  },
  {
   "cell_type": "markdown",
   "metadata": {
    "id": "7X4XtPlSkLNy"
   },
   "source": [
    "## Model Evaluation - Random Forest\n"
   ]
  },
  {
   "cell_type": "code",
   "execution_count": 14,
   "metadata": {
    "executionInfo": {
     "elapsed": 37783,
     "status": "aborted",
     "timestamp": 1608015214011,
     "user": {
      "displayName": "Shan Ali",
      "photoUrl": "https://lh3.googleusercontent.com/a-/AOh14Gh3aQprFkCQ0-5AIz6GbtMQqSuTNzJejMdIv9a1=s64",
      "userId": "03005408048802988275"
     },
     "user_tz": 0
    },
    "id": "QQzk7BkgRJuS",
    "scrolled": false
   },
   "outputs": [
    {
     "name": "stdout",
     "output_type": "stream",
     "text": [
      "Accuracy:  0.9988204385823817\n",
      "Precision:  0.9836448598130841\n",
      "Recall 0.8386454183266933\n"
     ]
    },
    {
     "data": {
      "image/png": "[encoded data removed]",
      "text/plain": [
       "<Figure size 504x360 with 2 Axes>"
      ]
     },
     "metadata": {},
     "output_type": "display_data"
    }
   ],
   "source": [
    "y_pred = classifier_rf.predict(X_test)\n",
    "cm = confusion_matrix(y_test, y_pred)\n",
    "acc = accuracy_score(y_test, y_pred)\n",
    "precision = precision_score(y_test, y_pred)\n",
    "recall = recall_score(y_test, y_pred)\n",
    "\n",
    "print('Accuracy: ', acc)\n",
    "print('Precision: ',precision)\n",
    "print('Recall', recall)\n",
    "\n",
    "df_cm = pd.DataFrame(cm, range(2), range(2))\n",
    "plt.figure(figsize=(7,5))\n",
    "sns.set(font_scale=1.4) # label size\n",
    "cm_plot = sns.heatmap(df_cm, annot=True, fmt='n', annot_kws={\"size\": 12})"
   ]
  },
  {
   "cell_type": "markdown",
   "metadata": {
    "id": "uiFBaOelj7OA"
   },
   "source": [
    "## Model Evaluation - XGBoost\n"
   ]
  },
  {
   "cell_type": "code",
   "execution_count": 16,
   "metadata": {
    "executionInfo": {
     "elapsed": 37780,
     "status": "aborted",
     "timestamp": 1608015214016,
     "user": {
      "displayName": "Shan Ali",
      "photoUrl": "https://lh3.googleusercontent.com/a-/AOh14Gh3aQprFkCQ0-5AIz6GbtMQqSuTNzJejMdIv9a1=s64",
      "userId": "03005408048802988275"
     },
     "user_tz": 0
    },
    "id": "igKJykemHwVa",
    "scrolled": false
   },
   "outputs": [],
   "source": [
    "# y_pred = classifier_xgb.predict(X_test)\n",
    "# cm = confusion_matrix(y_test, y_pred)\n",
    "# acc = accuracy_score(y_test, y_pred)\n",
    "# precision = precision_score(y_test, y_pred)\n",
    "# recall = recall_score(y_test, y_pred)\n",
    "\n",
    "# print('Accuracy: ', acc)\n",
    "# print('Precision: ',precision)\n",
    "# print('Recall', recall)\n",
    "\n",
    "# df_cm = pd.DataFrame(cm, range(2), range(2))\n",
    "# plt.figure(figsize=(7,5))\n",
    "# sns.set(font_scale=1.4) # label size\n",
    "# cm_plot = sns.heatmap(df_cm, annot=True, fmt='n', annot_kws={\"size\": 12})"
   ]
  },
  {
   "cell_type": "markdown",
   "metadata": {
    "id": "rlAweczhjeaB"
   },
   "source": [
    "## Model Evaluation - Decision tree\n"
   ]
  },
  {
   "cell_type": "code",
   "execution_count": 17,
   "metadata": {
    "colab": {
     "base_uri": "https://localhost:8080/"
    },
    "executionInfo": {
     "elapsed": 33587,
     "status": "ok",
     "timestamp": 1608015209731,
     "user": {
      "displayName": "Shan Ali",
      "photoUrl": "https://lh3.googleusercontent.com/a-/AOh14Gh3aQprFkCQ0-5AIz6GbtMQqSuTNzJejMdIv9a1=s64",
      "userId": "03005408048802988275"
     },
     "user_tz": 0
    },
    "id": "MYF6l32kRIiT",
    "outputId": "f669c805-d5ae-4cb5-e8ba-443e0cb83ff0"
   },
   "outputs": [
    {
     "name": "stdout",
     "output_type": "stream",
     "text": [
      "Accuracy:  0.9989276714385288\n",
      "Precision:  0.9288617886178862\n",
      "Recall 0.9103585657370518\n"
     ]
    },
    {
     "data": {
      "image/png": "[encoded data removed]",
      "text/plain": [
       "<Figure size 504x360 with 2 Axes>"
      ]
     },
     "metadata": {},
     "output_type": "display_data"
    }
   ],
   "source": [
    "y_pred = classifier_dt.predict(X_test)\n",
    "cm = confusion_matrix(y_test, y_pred)\n",
    "acc = accuracy_score(y_test, y_pred)\n",
    "precision = precision_score(y_test, y_pred)\n",
    "recall = recall_score(y_test, y_pred)\n",
    "\n",
    "print('Accuracy: ', acc)\n",
    "print('Precision: ',precision)\n",
    "print('Recall', recall)\n",
    "\n",
    "df_cm = pd.DataFrame(cm, range(2), range(2))\n",
    "plt.figure(figsize=(7,5))\n",
    "sns.set(font_scale=1.4) # label size\n",
    "cm_plot = sns.heatmap(df_cm, annot=True, fmt='n', annot_kws={\"size\": 12})"
   ]
  },
  {
   "cell_type": "markdown",
   "metadata": {},
   "source": [
    "# Test GAN-based Samples on Trained Classifier"
   ]
  },
  {
   "cell_type": "markdown",
   "metadata": {},
   "source": [
    "# Preprocessing on original and GAN generated data "
   ]
  },
  {
   "cell_type": "code",
   "execution_count": 18,
   "metadata": {},
   "outputs": [
    {
     "name": "stdout",
     "output_type": "stream",
     "text": [
      "1000\n",
      "Random selection of 5000 benign samples (1000, 61)\n"
     ]
    }
   ],
   "source": [
    "np.random.seed(0)\n",
    "rows = 1000 # number of rows to be removed\n",
    "\n",
    "# Selection of all benign indexes from ISCX dataset\n",
    "zero_labels = dataset.query('Label == 0')\n",
    "\n",
    "# Random selection of 5000 benign samples\n",
    "indexes = np.random.choice(zero_labels.index, rows, replace=False) \n",
    "rand_data = dataset.iloc[indexes]\n",
    "print(len(rand_data))\n",
    "print(\"Random selection of 5000 benign samples\", rand_data.shape)"
   ]
  },
  {
   "cell_type": "code",
   "execution_count": 19,
   "metadata": {},
   "outputs": [
    {
     "name": "stdout",
     "output_type": "stream",
     "text": [
      "1    1000\n",
      "0    1000\n",
      "Name: Label, dtype: int64\n",
      "(2000, 61)\n"
     ]
    },
    {
     "data": {
      "text/plain": [
       "0         False\n",
       "1         False\n",
       "2         False\n",
       "3         False\n",
       "4         False\n",
       "          ...  \n",
       "224725    False\n",
       "212704    False\n",
       "61762     False\n",
       "23334     False\n",
       "132685    False\n",
       "Length: 2000, dtype: bool"
      ]
     },
     "execution_count": 19,
     "metadata": {},
     "output_type": "execute_result"
    }
   ],
   "source": [
    "df_gan_bots = pd.read_csv('./datasets/gan_bots.csv')\n",
    "df_gan_bots = df_gan_bots.loc[:, ~df_gan_bots.columns.str.contains('^Unnamed')]\n",
    "\n",
    "# 5000 gan bots with benign samples from orginal dataset\n",
    "df_gan_bots = pd.concat([df_gan_bots, rand_data])\n",
    "\n",
    "print(df_gan_bots['Label'].value_counts())\n",
    "\n",
    "# Selecting all rows except last one from gan bots\n",
    "X_new_test = df_gan_bots.iloc[:, :-1].values\n",
    "\n",
    "# Selecting all rows of last column (Label)\n",
    "y_new_test = df_gan_bots.iloc[:, -1].values\n",
    "print(df_gan_bots.shape)\n",
    "df_gan_bots.isnull().any(axis=1)"
   ]
  },
  {
   "cell_type": "markdown",
   "metadata": {},
   "source": [
    "# Penetrating Decision Tree using GAN generated data"
   ]
  },
  {
   "cell_type": "code",
   "execution_count": 20,
   "metadata": {},
   "outputs": [
    {
     "name": "stdout",
     "output_type": "stream",
     "text": [
      "Accuracy:  0.562\n",
      "Precision:  1.0\n",
      "Recall 0.124\n"
     ]
    },
    {
     "data": {
      "image/png": "[encoded data removed]",
      "text/plain": [
       "<Figure size 504x360 with 2 Axes>"
      ]
     },
     "metadata": {},
     "output_type": "display_data"
    }
   ],
   "source": [
    "y_pred = classifier_dt.predict(X_new_test)\n",
    "cm = confusion_matrix(y_new_test, y_pred)\n",
    "acc = accuracy_score(y_new_test, y_pred)\n",
    "precision = precision_score(y_new_test, y_pred)\n",
    "recall = recall_score(y_new_test, y_pred)\n",
    "\n",
    "print('Accuracy: ', acc)\n",
    "print('Precision: ',precision)\n",
    "print('Recall', recall)\n",
    "\n",
    "df_cm = pd.DataFrame(cm, range(2), range(2))\n",
    "plt.figure(figsize=(7,5))\n",
    "sns.set(font_scale=1.4) # label size\n",
    "cm_plot = sns.heatmap(df_cm, annot=True, fmt='n', annot_kws={\"size\": 12})"
   ]
  },
  {
   "cell_type": "markdown",
   "metadata": {},
   "source": [
    "# Getting evaded indexes especially getting index of False Negative FN"
   ]
  },
  {
   "cell_type": "code",
   "execution_count": 21,
   "metadata": {
    "colab": {
     "base_uri": "https://localhost:8080/",
     "height": 429
    },
    "executionInfo": {
     "elapsed": 2027,
     "status": "ok",
     "timestamp": 1608015324990,
     "user": {
      "displayName": "Shan Ali",
      "photoUrl": "https://lh3.googleusercontent.com/a-/AOh14Gh3aQprFkCQ0-5AIz6GbtMQqSuTNzJejMdIv9a1=s64",
      "userId": "03005408048802988275"
     },
     "user_tz": 0
    },
    "id": "i7zXA5j3jz4e",
    "outputId": "33b02788-3086-4a83-9544-c073eb34f008"
   },
   "outputs": [],
   "source": [
    "# Measuring TP, FP, TN, FN\n",
    "def perf_measure(y_new, y_pred_dt):\n",
    "    TP = 0\n",
    "    FP = 0\n",
    "    TN = 0\n",
    "    FN = 0\n",
    "    l = [] # store evaded indexes in \n",
    "    for i in range(len(y_pred_dt)): \n",
    "        if y_new[i]==y_pred_dt[i]==1:\n",
    "           TP += 1\n",
    "        if y_pred_dt[i]==1 and y_new[i]!=y_pred_dt[i]:\n",
    "           FP += 1\n",
    "        if y_new[i]==y_pred_dt[i]==0:\n",
    "           TN += 1\n",
    "        if y_pred_dt[i]==0 and y_new[i]!=y_pred_dt[i]:\n",
    "           FN += 1\n",
    "           l.append(i)\n",
    "    return(TP, FP, TN, FN, l)"
   ]
  },
  {
   "cell_type": "markdown",
   "metadata": {},
   "source": [
    "# Calculate Evasion Rate and saving evaded data"
   ]
  },
  {
   "cell_type": "code",
   "execution_count": 22,
   "metadata": {},
   "outputs": [],
   "source": [
    "# getting evaded indexes\n",
    "matrixes = perf_measure(np.array(y_new_test), y_pred)\n",
    "index_FN = np.array(matrixes[4])\n",
    "\n",
    "# getting samples of all evaded sixty columns\n",
    "X_new_test = pd.DataFrame(X_new_test)\n",
    "X_evade_ind = X_new_test.iloc[index_FN]\n",
    "\n",
    "# getting samples of Label column\n",
    "y_new_test = pd.DataFrame(y_new_test)\n",
    "y_evade_ind = y_new_test.iloc[index_FN]\n",
    "\n",
    "##saving combined dataframe as evaded bots\n",
    "evaded_bots = pd.concat([X_evade_ind, y_evade_ind], axis=1, sort=False)\n",
    "# adding column names to samples\n",
    "evaded_bots.columns = ['Flow Duration', 'Total Fwd Packet', 'Total Bwd packets',\n",
    "                               'Total Length of Fwd Packet', 'Total Length of Bwd Packet',\n",
    "                               'Fwd Packet Length Max', 'Fwd Packet Length Min',\n",
    "                               'Fwd Packet Length Mean', 'Fwd Packet Length Std',\n",
    "                               'Bwd Packet Length Max', 'Bwd Packet Length Min',\n",
    "                               'Bwd Packet Length Mean', 'Bwd Packet Length Std', 'Flow Bytes/s',\n",
    "                               'Flow Packets/s', 'Flow IAT Mean', 'Flow IAT Max', 'Flow IAT Min',\n",
    "                               'Fwd IAT Total', 'Fwd IAT Mean', 'Fwd IAT Max', 'Fwd IAT Min',\n",
    "                               'Bwd IAT Total', 'Bwd IAT Mean', 'Bwd IAT Std', 'Bwd IAT Max',\n",
    "                               'Bwd IAT Min', 'Fwd PSH Flags', 'Fwd Header Length',\n",
    "                               'Bwd Header Length', 'Fwd Packets/s', 'Bwd Packets/s',\n",
    "                               'Packet Length Min', 'Packet Length Max', 'Packet Length Mean',\n",
    "                               'Packet Length Std', 'Packet Length Variance', 'FIN Flag Count',\n",
    "                               'SYN Flag Count', 'RST Flag Count', 'PSH Flag Count', 'ACK Flag Count',\n",
    "                               'Down/Up Ratio', 'Average Packet Size', 'Fwd Segment Size Avg',\n",
    "                               'Bwd Segment Size Avg', 'Bwd Bytes/Bulk Avg', 'Bwd Packet/Bulk Avg',\n",
    "                               'Bwd Bulk Rate Avg', 'Subflow Fwd Packets', 'Subflow Fwd Bytes',\n",
    "                               'Subflow Bwd Bytes', 'FWD Init Win Bytes', 'Bwd Init Win Bytes',\n",
    "                               'Fwd Act Data Pkts', 'Fwd Seg Size Min', 'Idle Mean', 'Idle Std',\n",
    "                               'Idle Max', 'Idle Min', 'Label']\n",
    "\n",
    "evaded_bots.to_csv('./datasets/evaded_bots.csv',index=False)"
   ]
  },
  {
   "cell_type": "code",
   "execution_count": 23,
   "metadata": {},
   "outputs": [
    {
     "name": "stdout",
     "output_type": "stream",
     "text": [
      "Evasion Rate:  87.6\n"
     ]
    }
   ],
   "source": [
    "# Evaded samples calculations\n",
    "evaded_samples = len(index_FN)\n",
    "total_bots = len(rand_data)\n",
    "\n",
    "er = (evaded_samples/total_bots) * 100\n",
    "# Evasion Rate = Malicious evaded Samples / Total Malicous Samples in Testset\n",
    "print('Evasion Rate: ', er)"
   ]
  },
  {
   "cell_type": "markdown",
   "metadata": {},
   "source": [
    "# Retraining of classifier using evaded samples "
   ]
  },
  {
   "cell_type": "markdown",
   "metadata": {},
   "source": [
    "# Some preprocessings"
   ]
  },
  {
   "cell_type": "code",
   "execution_count": 24,
   "metadata": {},
   "outputs": [
    {
     "name": "stdout",
     "output_type": "stream",
     "text": [
      "(249553, 61)\n"
     ]
    }
   ],
   "source": [
    "# Concate evaded bots with original dataset\n",
    "df = pd.concat([dataset, evaded_bots])\n",
    "df.to_csv('./datasets/ISCX_Botnet(withEvadedSamples).csv', index = False)\n",
    "print(df.shape)"
   ]
  },
  {
   "cell_type": "code",
   "execution_count": 25,
   "metadata": {},
   "outputs": [
    {
     "name": "stdout",
     "output_type": "stream",
     "text": [
      "(174687, 60)\n",
      "(74866, 60)\n",
      "(174687,)\n",
      "(74866,)\n"
     ]
    }
   ],
   "source": [
    "# loading ISCX_Botnet(withEvadedSamples)\n",
    "# selection of all columns except label class with label = 0\n",
    "X = df.iloc[:, :-1].values\n",
    "# selection of only label class with label = 1\n",
    "y = df.iloc[:, -1].values\n",
    "\n",
    "X_train, X_test, y_train, y_test = train_test_split(X, y, test_size = 0.30)\n",
    "print(X_train.shape)\n",
    "print(X_test.shape)\n",
    "print(y_train.shape)\n",
    "print(y_test.shape)"
   ]
  },
  {
   "cell_type": "markdown",
   "metadata": {},
   "source": [
    "# Re-training of decision tree"
   ]
  },
  {
   "cell_type": "code",
   "execution_count": 26,
   "metadata": {},
   "outputs": [
    {
     "data": {
      "text/plain": [
       "DecisionTreeClassifier(criterion='entropy', random_state=0)"
      ]
     },
     "execution_count": 26,
     "metadata": {},
     "output_type": "execute_result"
    }
   ],
   "source": [
    "classifier_dt_retrained = DecisionTreeClassifier(criterion = 'entropy', random_state = 0)\n",
    "classifier_dt_retrained.fit(X_train, y_train)"
   ]
  },
  {
   "cell_type": "markdown",
   "metadata": {},
   "source": [
    "#  Evaluation of classifier"
   ]
  },
  {
   "cell_type": "code",
   "execution_count": 27,
   "metadata": {},
   "outputs": [
    {
     "name": "stdout",
     "output_type": "stream",
     "text": [
      "Accuracy:  0.9987978521625304\n",
      "Precision:  0.9406175771971497\n",
      "Recall 0.9519230769230769\n"
     ]
    },
    {
     "data": {
      "image/png": "[encoded data removed]",
      "text/plain": [
       "<Figure size 504x360 with 2 Axes>"
      ]
     },
     "metadata": {},
     "output_type": "display_data"
    }
   ],
   "source": [
    "y_pred = classifier_dt_retrained.predict(X_test)\n",
    "cm = confusion_matrix(y_test, y_pred)\n",
    "acc = accuracy_score(y_test, y_pred)\n",
    "precision = precision_score(y_test, y_pred)\n",
    "recall = recall_score(y_test, y_pred)\n",
    "\n",
    "print('Accuracy: ', acc)\n",
    "print('Precision: ',precision)\n",
    "print('Recall', recall)\n",
    "\n",
    "df_cm = pd.DataFrame(cm, range(2), range(2))\n",
    "plt.figure(figsize=(7,5))\n",
    "sns.set(font_scale=1.4) # label size\n",
    "cm_plot = sns.heatmap(df_cm, annot=True, fmt='n', annot_kws={\"size\": 12})"
   ]
  },
  {
   "cell_type": "markdown",
   "metadata": {},
   "source": [
    "# Penetrating retrained Decision Tree using GAN generated data"
   ]
  },
  {
   "cell_type": "code",
   "execution_count": 28,
   "metadata": {},
   "outputs": [
    {
     "name": "stdout",
     "output_type": "stream",
     "text": [
      "1    1000\n",
      "0    1000\n",
      "Name: Label, dtype: int64\n"
     ]
    }
   ],
   "source": [
    "new_gan_bots = pd.read_csv('./datasets/new_gan_bots.csv')\n",
    "\n",
    "# 5000 gan bots with benign samples from orginal dataset\n",
    "new_gan_bots = pd.concat([new_gan_bots, rand_data])\n",
    "\n",
    "print(new_gan_bots['Label'].value_counts())\n",
    "\n",
    "# Selecting all rows except last one from gan bots\n",
    "X_new_test = new_gan_bots.iloc[:, :-1].values\n",
    "\n",
    "# Selecting all rows of last column (Label)\n",
    "y_new_test = new_gan_bots.iloc[:, -1].values"
   ]
  },
  {
   "cell_type": "code",
   "execution_count": 29,
   "metadata": {},
   "outputs": [
    {
     "name": "stdout",
     "output_type": "stream",
     "text": [
      "Accuracy:  0.7115\n",
      "Precision:  1.0\n",
      "Recall 0.423\n"
     ]
    },
    {
     "data": {
      "image/png": "[encoded data removed]",
      "text/plain": [
       "<Figure size 504x360 with 2 Axes>"
      ]
     },
     "metadata": {},
     "output_type": "display_data"
    }
   ],
   "source": [
    "y_pred = classifier_dt_retrained.predict(X_new_test)\n",
    "cm = confusion_matrix(y_new_test, y_pred)\n",
    "acc = accuracy_score(y_new_test, y_pred)\n",
    "precision = precision_score(y_new_test, y_pred)\n",
    "recall = recall_score(y_new_test, y_pred)\n",
    "\n",
    "print('Accuracy: ', acc)\n",
    "print('Precision: ',precision)\n",
    "print('Recall', recall)\n",
    "\n",
    "df_cm = pd.DataFrame(cm, range(2), range(2))\n",
    "plt.figure(figsize=(7,5))\n",
    "sns.set(font_scale=1.4) # label size\n",
    "cm_plot = sns.heatmap(df_cm, annot=True, fmt='n', annot_kws={\"size\": 12})"
   ]
  },
  {
   "cell_type": "markdown",
   "metadata": {},
   "source": [
    "# Calculate Evasion Rate"
   ]
  },
  {
   "cell_type": "code",
   "execution_count": 30,
   "metadata": {},
   "outputs": [
    {
     "name": "stdout",
     "output_type": "stream",
     "text": [
      "\u001b[1m Evasion Rate:  57.699999999999996\n"
     ]
    }
   ],
   "source": [
    "# getting evaded indexes\n",
    "matrixes = perf_measure(np.array(y_new_test), y_pred)\n",
    "index_FN = np.array(matrixes[4])\n",
    "\n",
    "er = len(index_FN)\n",
    "num_gan_bots = len(rand_data)\n",
    "er = (er/num_gan_bots) * 100\n",
    "# Evasion Rate = Malicious evaded Samples / Total Malicous Samples in Testset\n",
    "print('\\033[1m' , 'Evasion Rate: ' , er)"
   ]
  },
  {
   "cell_type": "code",
   "execution_count": null,
   "metadata": {},
   "outputs": [],
   "source": []
  },
  {
   "cell_type": "code",
   "execution_count": null,
   "metadata": {},
   "outputs": [],
   "source": []
  }
 ],
 "metadata": {
  "accelerator": "GPU",
  "colab": {
   "collapsed_sections": [],
   "machine_shape": "hm",
   "name": "Evasion_Attack.ipynb",
   "provenance": [],
   "toc_visible": true
  },
  "kernelspec": {
   "display_name": "Python 3",
   "language": "python",
   "name": "python3"
  },
  "language_info": {
   "codemirror_mode": {
    "name": "ipython",
    "version": 3
   },
   "file_extension": ".py",
   "mimetype": "text/x-python",
   "name": "python",
   "nbconvert_exporter": "python",
   "pygments_lexer": "ipython3",
   "version": "3.8.3"
  }
 },
 "nbformat": 4,
 "nbformat_minor": 1
}
