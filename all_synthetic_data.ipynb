{
 "cells": [
  {
   "cell_type": "markdown",
   "metadata": {},
   "source": [
    "# Training configuration"
   ]
  },
  {
   "cell_type": "code",
   "execution_count": null,
   "metadata": {
    "id": "Swmxk1NUUcB3"
   },
   "outputs": [],
   "source": [
    "# training configuration\n",
    "noise_dim = 32\n",
    "dim = 128\n",
    "batch_size = 32\n",
    "\n",
    "log_step = 100\n",
    "epochs = 5000+1\n",
    "learning_rate = 5e-4\n",
    "models_dir = 'model'"
   ]
  },
  {
   "cell_type": "code",
   "execution_count": null,
   "metadata": {
    "colab": {
     "base_uri": "https://localhost:8080/"
    },
    "executionInfo": {
     "elapsed": 1098,
     "status": "ok",
     "timestamp": 1607930075952,
     "user": {
      "displayName": "Shan Ali",
      "photoUrl": "https://lh3.googleusercontent.com/a-/AOh14Gh3aQprFkCQ0-5AIz6GbtMQqSuTNzJejMdIv9a1=s64",
      "userId": "03005408048802988275"
     },
     "user_tz": 0
    },
    "id": "OXUJk9VZARx1",
    "outputId": "1801b3e4-d84c-4a1d-ffca-8554c21d09fc"
   },
   "outputs": [
    {
     "name": "stdout",
     "output_type": "stream",
     "text": [
      "Index(['Flow Duration', 'Total Fwd Packet', 'Total Bwd packets',\n",
      "       'Total Length of Fwd Packet', 'Total Length of Bwd Packet',\n",
      "       'Fwd Packet Length Max', 'Fwd Packet Length Min',\n",
      "       'Fwd Packet Length Mean', 'Fwd Packet Length Std',\n",
      "       'Bwd Packet Length Max', 'Bwd Packet Length Min',\n",
      "       'Bwd Packet Length Mean', 'Bwd Packet Length Std', 'Flow Bytes/s',\n",
      "       'Flow Packets/s', 'Flow IAT Mean', 'Flow IAT Max', 'Flow IAT Min',\n",
      "       'Fwd IAT Total', 'Fwd IAT Mean', 'Fwd IAT Max', 'Fwd IAT Min',\n",
      "       'Bwd IAT Total', 'Bwd IAT Mean', 'Bwd IAT Std', 'Bwd IAT Max',\n",
      "       'Bwd IAT Min', 'Fwd PSH Flags', 'Fwd Header Length',\n",
      "       'Bwd Header Length', 'Fwd Packets/s', 'Bwd Packets/s',\n",
      "       'Packet Length Min', 'Packet Length Max', 'Packet Length Mean',\n",
      "       'Packet Length Std', 'Packet Length Variance', 'FIN Flag Count',\n",
      "       'SYN Flag Count', 'RST Flag Count', 'PSH Flag Count', 'ACK Flag Count',\n",
      "       'Down/Up Ratio', 'Average Packet Size', 'Fwd Segment Size Avg',\n",
      "       'Bwd Segment Size Avg', 'Bwd Bytes/Bulk Avg', 'Bwd Packet/Bulk Avg',\n",
      "       'Bwd Bulk Rate Avg', 'Subflow Fwd Packets', 'Subflow Fwd Bytes',\n",
      "       'Subflow Bwd Bytes', 'FWD Init Win Bytes', 'Bwd Init Win Bytes',\n",
      "       'Fwd Act Data Pkts', 'Fwd Seg Size Min', 'Idle Mean', 'Idle Std',\n",
      "       'Idle Max', 'Idle Min', 'Label'],\n",
      "      dtype='object')\n"
     ]
    }
   ],
   "source": [
    "import pandas as pd\n",
    "\n",
    "df = pd.read_csv('Copy of only_bots.csv')\n",
    "print(df.columns)"
   ]
  },
  {
   "cell_type": "markdown",
   "metadata": {
    "id": "CivI1TYWCEQ-"
   },
   "source": [
    "Next, we will encode all [categorical features](https://en.wikipedia.org/wiki/Categorical_variable) to integer values. We are simply encoding the features to numerical values and are not using one hot encoding as its not required for GANs. "
   ]
  },
  {
   "cell_type": "markdown",
   "metadata": {
    "id": "eij1RAFCEsss"
   },
   "source": [
    "### Transform the data\n",
    "\n",
    "Next, we apply `PowerTransformer` on all the fields to get a Gaussian distribution for the data. "
   ]
  },
  {
   "cell_type": "code",
   "execution_count": null,
   "metadata": {
    "id": "FzaGA0whtrxz"
   },
   "outputs": [],
   "source": [
    "# import numpy as np\n",
    "\n",
    "# df_healthcare_expenses = pd.cut(df['HEALTHCARE_EXPENSES'], bins=np.linspace(HEALTHCARE_EXPENSES_MIN, HEALTHCARE_EXPENSES_MAX, 21), labels=False)\n",
    "# df_healthcare_coverage = pd.cut(df['HEALTHCARE_COVERAGE'], bins=np.linspace(HEALTHCARE_COVERAGE_MIN, HEALTHCARE_COVERAGE_MAX, 21), labels=False)\n",
    "\n",
    "# df.drop([\"HEALTHCARE_EXPENSES\", \"HEALTHCARE_COVERAGE\"], axis=1, inplace=True)\n",
    "\n",
    "# df = pd.concat([df, df_healthcare_expenses, df_healthcare_coverage], axis=1)"
   ]
  },
  {
   "cell_type": "code",
   "execution_count": null,
   "metadata": {
    "id": "s_ik_nL2JbFr"
   },
   "outputs": [],
   "source": [
    "# from sklearn.preprocessing import PowerTransformer\n",
    "\n",
    "# df[df.columns] = PowerTransformer(method='yeo-johnson', standardize=True, copy=True).fit_transform(df[df.columns])\n",
    "\n",
    "# print(df)"
   ]
  },
  {
   "cell_type": "markdown",
   "metadata": {
    "id": "dvNrKZPdFJJ4"
   },
   "source": [
    "## Train the Model\n",
    "\n",
    "Next, lets define the neural network for generating synthetic data. We will be using a [GAN](https://www.wikiwand.com/en/Generative_adversarial_network) network that comprises of an generator and discriminator that tries to beat each other and in the process learns the vector embedding for the data. \n",
    "\n",
    "The model was taken from a [Github repository](https://github.com/ydataai/gan-playground) where it is used to generate synthetic data on credit card fraud data. "
   ]
  },
  {
   "cell_type": "code",
   "execution_count": null,
   "metadata": {
    "id": "iM7W24g2v7b3"
   },
   "outputs": [],
   "source": [
    "import os\n",
    "import numpy as np\n",
    "\n",
    "import tensorflow as tf\n",
    "from tensorflow.keras.layers import Input, Dense, Dropout\n",
    "from tensorflow.keras import Model\n",
    "\n",
    "from tensorflow.keras.optimizers import Adam\n",
    "\n",
    "class GAN():\n",
    "    \n",
    "    def __init__(self, gan_args):\n",
    "        [self.batch_size, lr, self.noise_dim,\n",
    "         self.data_dim, layers_dim] = gan_args\n",
    "\n",
    "        self.generator = Generator(self.batch_size).\\\n",
    "            build_model(input_shape=(self.noise_dim,), dim=layers_dim, data_dim=self.data_dim)\n",
    "\n",
    "        self.discriminator = Discriminator(self.batch_size).\\\n",
    "            build_model(input_shape=(self.data_dim,), dim=layers_dim)\n",
    "\n",
    "        optimizer = Adam(lr, 0.5)\n",
    "\n",
    "        # Build and compile the discriminator\n",
    "        self.discriminator.compile(loss='binary_crossentropy',\n",
    "                                   optimizer=optimizer,\n",
    "                                   metrics=['accuracy'])\n",
    "\n",
    "        # The generator takes noise as input and generates imgs\n",
    "        z = Input(shape=(self.noise_dim,))\n",
    "        record = self.generator(z)\n",
    "\n",
    "        # For the combined model we will only train the generator\n",
    "        self.discriminator.trainable = False\n",
    "\n",
    "        # The discriminator takes generated images as input and determines validity\n",
    "        validity = self.discriminator(record)\n",
    "\n",
    "        # The combined model  (stacked generator and discriminator)\n",
    "        # Trains the generator to fool the discriminator\n",
    "        self.combined = Model(z, validity)\n",
    "        self.combined.compile(loss='binary_crossentropy', optimizer=optimizer)\n",
    "\n",
    "    def get_data_batch(self, train, batch_size, seed=0):\n",
    "        # # random sampling - some samples will have excessively low or high sampling, but easy to implement\n",
    "        # np.random.seed(seed)\n",
    "        # x = train.loc[ np.random.choice(train.index, batch_size) ].values\n",
    "        # iterate through shuffled indices, so every sample gets covered evenly\n",
    "\n",
    "        start_i = (batch_size * seed) % len(train)\n",
    "        stop_i = start_i + batch_size\n",
    "        shuffle_seed = (batch_size * seed) // len(train)\n",
    "        np.random.seed(shuffle_seed)\n",
    "        train_ix = np.random.choice(list(train.index), replace=False, size=len(train))  # wasteful to shuffle every time\n",
    "        train_ix = list(train_ix) + list(train_ix)  # duplicate to cover ranges past the end of the set\n",
    "        x = train.loc[train_ix[start_i: stop_i]].values\n",
    "        return np.reshape(x, (batch_size, -1))\n",
    "        \n",
    "    def train(self, data, train_arguments):\n",
    "        [cache_prefix, epochs, sample_interval] = train_arguments\n",
    "        \n",
    "        data_cols = data.columns\n",
    "\n",
    "        # Adversarial ground truths\n",
    "        valid = np.ones((self.batch_size, 1))\n",
    "        fake = np.zeros((self.batch_size, 1))\n",
    "\n",
    "        for epoch in range(epochs):    \n",
    "            # ---------------------\n",
    "            #  Train Discriminator\n",
    "            # ---------------------\n",
    "            batch_data = self.get_data_batch(data, self.batch_size)\n",
    "            noise = tf.random.normal((self.batch_size, self.noise_dim))\n",
    "\n",
    "            # Generate a batch of new images\n",
    "            gen_data = self.generator.predict(noise)\n",
    "    \n",
    "            # Train the discriminator\n",
    "            d_loss_real = self.discriminator.train_on_batch(batch_data, valid)\n",
    "            d_loss_fake = self.discriminator.train_on_batch(gen_data, fake)\n",
    "            d_loss = 0.5 * np.add(d_loss_real, d_loss_fake)\n",
    "    \n",
    "            # ---------------------\n",
    "            #  Train Generator\n",
    "            # ---------------------\n",
    "            noise = tf.random.normal((self.batch_size, self.noise_dim))\n",
    "            # Train the generator (to have the discriminator label samples as valid)\n",
    "            g_loss = self.combined.train_on_batch(noise, valid)\n",
    "    \n",
    "            # Plot the progress\n",
    "            print(\"%d [D loss: %f, acc.: %.2f%%] [G loss: %f]\" % (epoch, d_loss[0], 100 * d_loss[1], g_loss))\n",
    "    \n",
    "            # If at save interval => save generated events\n",
    "            if epoch % sample_interval == 0:\n",
    "                #Test here data generation step\n",
    "                # save model checkpoints\n",
    "                model_checkpoint_base_name = 'model/' + cache_prefix + '_{}_model_weights_step_{}.h5'\n",
    "                self.generator.save_weights(model_checkpoint_base_name.format('generator', epoch))\n",
    "                self.discriminator.save_weights(model_checkpoint_base_name.format('discriminator', epoch))\n",
    "\n",
    "                #Here is generating the data\n",
    "                z = tf.random.normal((432, self.noise_dim))\n",
    "                gen_data = self.generator(z)\n",
    "                print('generated_data')\n",
    "\n",
    "    def save(self, path, name):\n",
    "        assert os.path.isdir(path) == True, \\\n",
    "            \"Please provide a valid path. Path must be a directory.\"\n",
    "        model_path = os.path.join(path, name)\n",
    "        self.generator.save_weights(model_path)  # Load the generator\n",
    "        return\n",
    "    \n",
    "    def load(self, path):\n",
    "        assert os.path.isdir(path) == True, \\\n",
    "            \"Please provide a valid path. Path must be a directory.\"\n",
    "        self.generator = Generator(self.batch_size)\n",
    "        self.generator = self.generator.load_weights(path)\n",
    "        return self.generator\n",
    "    \n",
    "class Generator():\n",
    "    def __init__(self, batch_size):\n",
    "        self.batch_size=batch_size\n",
    "        \n",
    "    def build_model(self, input_shape, dim, data_dim):\n",
    "        input= Input(shape=input_shape, batch_size=self.batch_size)\n",
    "        x = Dense(dim, activation='relu')(input)\n",
    "        x = Dense(dim * 2, activation='relu')(x)\n",
    "        x = Dense(dim * 4, activation='relu')(x)\n",
    "        x = Dense(data_dim)(x)\n",
    "        return Model(inputs=input, outputs=x)\n",
    "\n",
    "class Discriminator():\n",
    "    def __init__(self,batch_size):\n",
    "        self.batch_size=batch_size\n",
    "    \n",
    "    def build_model(self, input_shape, dim):\n",
    "        input = Input(shape=input_shape, batch_size=self.batch_size)\n",
    "        x = Dense(dim * 4, activation='relu')(input)\n",
    "        x = Dropout(0.1)(x)\n",
    "        x = Dense(dim * 2, activation='relu')(x)\n",
    "        x = Dropout(0.1)(x)\n",
    "        x = Dense(dim, activation='relu')(x)\n",
    "        x = Dense(1, activation='sigmoid')(x)\n",
    "        return Model(inputs=input, outputs=x)"
   ]
  },
  {
   "cell_type": "markdown",
   "metadata": {
    "id": "06PBJKvMGUdQ"
   },
   "source": [
    "Next, lets define the training parameters for the GAN network. We would be using a batch size of 32 and train it for 5000 epochs."
   ]
  },
  {
   "cell_type": "code",
   "execution_count": null,
   "metadata": {
    "id": "DCpmysfBz_Eo"
   },
   "outputs": [],
   "source": [
    "data_cols = df.columns"
   ]
  },
  {
   "cell_type": "code",
   "execution_count": null,
   "metadata": {
    "colab": {
     "base_uri": "https://localhost:8080/"
    },
    "executionInfo": {
     "elapsed": 2584,
     "status": "ok",
     "timestamp": 1607930077474,
     "user": {
      "displayName": "Shan Ali",
      "photoUrl": "https://lh3.googleusercontent.com/a-/AOh14Gh3aQprFkCQ0-5AIz6GbtMQqSuTNzJejMdIv9a1=s64",
      "userId": "03005408048802988275"
     },
     "user_tz": 0
    },
    "id": "kDmbScY6vRCS",
    "outputId": "3ed21c72-9675-49ed-f208-9411b09a9aff"
   },
   "outputs": [
    {
     "name": "stdout",
     "output_type": "stream",
     "text": [
      "61\n"
     ]
    }
   ],
   "source": [
    "#Define the GAN and training parameters\n",
    "noise_dim = 32\n",
    "dim = 128\n",
    "batch_size = 32\n",
    "\n",
    "log_step = 100\n",
    "epochs = 400+1\n",
    "learning_rate = 5e-4\n",
    "models_dir = 'model'\n",
    "\n",
    "df[data_cols] = df[data_cols]\n",
    "\n",
    "print(df.shape[1])\n",
    "\n",
    "gan_args = [batch_size, learning_rate, noise_dim, df.shape[1], dim]\n",
    "train_args = ['', epochs, log_step]"
   ]
  },
  {
   "cell_type": "code",
   "execution_count": null,
   "metadata": {
    "colab": {
     "base_uri": "https://localhost:8080/"
    },
    "executionInfo": {
     "elapsed": 2578,
     "status": "ok",
     "timestamp": 1607930077475,
     "user": {
      "displayName": "Shan Ali",
      "photoUrl": "https://lh3.googleusercontent.com/a-/AOh14Gh3aQprFkCQ0-5AIz6GbtMQqSuTNzJejMdIv9a1=s64",
      "userId": "03005408048802988275"
     },
     "user_tz": 0
    },
    "id": "KUQDsxJo3rL_",
    "outputId": "acd3d081-4569-456a-e41b-aa2be0bb5575"
   },
   "outputs": [
    {
     "name": "stdout",
     "output_type": "stream",
     "text": [
      "mkdir: cannot create directory ‘model’: File exists\n"
     ]
    }
   ],
   "source": [
    "!mkdir model"
   ]
  },
  {
   "cell_type": "markdown",
   "metadata": {
    "id": "w_U40WJaGfUd"
   },
   "source": [
    "Finally, let's run the training and see if the model is able to learn something. "
   ]
  },
  {
   "cell_type": "code",
   "execution_count": null,
   "metadata": {
    "colab": {
     "base_uri": "https://localhost:8080/"
    },
    "executionInfo": {
     "elapsed": 26031,
     "status": "ok",
     "timestamp": 1607930100936,
     "user": {
      "displayName": "Shan Ali",
      "photoUrl": "https://lh3.googleusercontent.com/a-/AOh14Gh3aQprFkCQ0-5AIz6GbtMQqSuTNzJejMdIv9a1=s64",
      "userId": "03005408048802988275"
     },
     "user_tz": 0
    },
    "id": "sqWKRukawP41",
    "outputId": "2c7886e9-1937-433d-94d6-ff7a3c056b51"
   },
   "outputs": [
    {
     "name": "stdout",
     "output_type": "stream",
     "text": [
      "0 [D loss: 0.691756, acc.: 50.00%] [G loss: 0.682237]\n",
      "generated_data\n",
      "1 [D loss: 0.635549, acc.: 56.25%] [G loss: 0.717633]\n",
      "2 [D loss: 0.590742, acc.: 62.50%] [G loss: 0.748142]\n",
      "3 [D loss: 0.561187, acc.: 68.75%] [G loss: 0.764575]\n",
      "4 [D loss: 0.567118, acc.: 51.56%] [G loss: 0.736825]\n",
      "5 [D loss: 0.598048, acc.: 50.00%] [G loss: 0.655686]\n",
      "6 [D loss: 0.737928, acc.: 50.00%] [G loss: 0.545509]\n",
      "7 [D loss: 0.786921, acc.: 50.00%] [G loss: 0.585138]\n",
      "8 [D loss: 0.755780, acc.: 50.00%] [G loss: 0.685718]\n",
      "9 [D loss: 0.735009, acc.: 48.44%] [G loss: 0.881937]\n",
      "10 [D loss: 0.699525, acc.: 50.00%] [G loss: 1.094002]\n",
      "11 [D loss: 0.693633, acc.: 51.56%] [G loss: 1.256850]\n",
      "12 [D loss: 0.688845, acc.: 48.44%] [G loss: 1.227688]\n",
      "13 [D loss: 0.710786, acc.: 50.00%] [G loss: 1.146537]\n",
      "14 [D loss: 0.709233, acc.: 50.00%] [G loss: 1.062185]\n",
      "15 [D loss: 0.685886, acc.: 50.00%] [G loss: 1.054078]\n",
      "16 [D loss: 0.662424, acc.: 50.00%] [G loss: 1.016181]\n",
      "17 [D loss: 0.653797, acc.: 60.94%] [G loss: 0.942537]\n",
      "18 [D loss: 0.639350, acc.: 78.12%] [G loss: 0.911299]\n",
      "19 [D loss: 0.661995, acc.: 78.12%] [G loss: 0.830124]\n",
      "20 [D loss: 0.654257, acc.: 70.31%] [G loss: 0.747467]\n",
      "21 [D loss: 0.662430, acc.: 56.25%] [G loss: 0.718016]\n",
      "22 [D loss: 0.673610, acc.: 46.88%] [G loss: 0.750538]\n",
      "23 [D loss: 0.668870, acc.: 51.56%] [G loss: 0.789695]\n",
      "24 [D loss: 0.672692, acc.: 46.88%] [G loss: 0.813376]\n",
      "25 [D loss: 0.699351, acc.: 42.19%] [G loss: 0.806067]\n",
      "26 [D loss: 0.682323, acc.: 57.81%] [G loss: 0.784335]\n",
      "27 [D loss: 0.683129, acc.: 67.19%] [G loss: 0.833384]\n",
      "28 [D loss: 0.686273, acc.: 59.38%] [G loss: 0.865958]\n",
      "29 [D loss: 0.684828, acc.: 62.50%] [G loss: 0.854548]\n",
      "30 [D loss: 0.688386, acc.: 65.62%] [G loss: 0.823758]\n",
      "31 [D loss: 0.688891, acc.: 60.94%] [G loss: 0.825206]\n",
      "32 [D loss: 0.675346, acc.: 68.75%] [G loss: 0.847058]\n",
      "33 [D loss: 0.679301, acc.: 70.31%] [G loss: 0.824221]\n",
      "34 [D loss: 0.667550, acc.: 71.88%] [G loss: 0.806876]\n",
      "35 [D loss: 0.683751, acc.: 62.50%] [G loss: 0.799074]\n",
      "36 [D loss: 0.672933, acc.: 67.19%] [G loss: 0.795941]\n",
      "37 [D loss: 0.675646, acc.: 60.94%] [G loss: 0.802339]\n",
      "38 [D loss: 0.666525, acc.: 62.50%] [G loss: 0.802002]\n",
      "39 [D loss: 0.666452, acc.: 62.50%] [G loss: 0.847090]\n",
      "40 [D loss: 0.657383, acc.: 65.62%] [G loss: 0.849519]\n",
      "41 [D loss: 0.657192, acc.: 56.25%] [G loss: 0.856336]\n",
      "42 [D loss: 0.653903, acc.: 57.81%] [G loss: 0.854699]\n",
      "43 [D loss: 0.648959, acc.: 62.50%] [G loss: 0.828817]\n",
      "44 [D loss: 0.646444, acc.: 71.88%] [G loss: 0.834894]\n",
      "45 [D loss: 0.642712, acc.: 71.88%] [G loss: 0.836191]\n",
      "46 [D loss: 0.635275, acc.: 78.12%] [G loss: 0.831691]\n",
      "47 [D loss: 0.627160, acc.: 82.81%] [G loss: 0.831272]\n",
      "48 [D loss: 0.648446, acc.: 68.75%] [G loss: 0.782269]\n",
      "49 [D loss: 0.641333, acc.: 67.19%] [G loss: 0.763669]\n",
      "50 [D loss: 0.660547, acc.: 54.69%] [G loss: 0.772359]\n",
      "51 [D loss: 0.647917, acc.: 70.31%] [G loss: 0.807518]\n",
      "52 [D loss: 0.635590, acc.: 70.31%] [G loss: 0.822932]\n",
      "53 [D loss: 0.634190, acc.: 75.00%] [G loss: 0.844382]\n",
      "54 [D loss: 0.625535, acc.: 79.69%] [G loss: 0.856858]\n",
      "55 [D loss: 0.625959, acc.: 68.75%] [G loss: 0.876134]\n",
      "56 [D loss: 0.612180, acc.: 71.88%] [G loss: 0.878475]\n",
      "57 [D loss: 0.641704, acc.: 62.50%] [G loss: 0.869938]\n",
      "58 [D loss: 0.628981, acc.: 65.62%] [G loss: 0.869850]\n",
      "59 [D loss: 0.650373, acc.: 71.88%] [G loss: 0.837844]\n",
      "60 [D loss: 0.621952, acc.: 82.81%] [G loss: 0.894685]\n",
      "61 [D loss: 0.624051, acc.: 79.69%] [G loss: 0.938760]\n",
      "62 [D loss: 0.567136, acc.: 92.19%] [G loss: 1.007257]\n",
      "63 [D loss: 0.530753, acc.: 95.31%] [G loss: 1.050497]\n",
      "64 [D loss: 0.519514, acc.: 92.19%] [G loss: 1.080415]\n",
      "65 [D loss: 0.511745, acc.: 89.06%] [G loss: 1.038785]\n",
      "66 [D loss: 0.503880, acc.: 85.94%] [G loss: 0.937384]\n",
      "67 [D loss: 0.547384, acc.: 73.44%] [G loss: 0.885664]\n",
      "68 [D loss: 0.559109, acc.: 68.75%] [G loss: 0.821805]\n",
      "69 [D loss: 0.625080, acc.: 65.62%] [G loss: 0.835665]\n",
      "70 [D loss: 0.630759, acc.: 57.81%] [G loss: 0.789142]\n",
      "71 [D loss: 0.686297, acc.: 56.25%] [G loss: 0.948718]\n",
      "72 [D loss: 0.705455, acc.: 64.06%] [G loss: 1.141340]\n",
      "73 [D loss: 0.703494, acc.: 39.06%] [G loss: 1.299568]\n",
      "74 [D loss: 0.740159, acc.: 26.56%] [G loss: 1.393395]\n",
      "75 [D loss: 0.691347, acc.: 54.69%] [G loss: 1.309822]\n",
      "76 [D loss: 0.713139, acc.: 51.56%] [G loss: 1.194257]\n",
      "77 [D loss: 0.654268, acc.: 59.38%] [G loss: 1.168142]\n",
      "78 [D loss: 0.609832, acc.: 70.31%] [G loss: 1.183541]\n",
      "79 [D loss: 0.590488, acc.: 87.50%] [G loss: 1.146809]\n",
      "80 [D loss: 0.581435, acc.: 89.06%] [G loss: 1.068764]\n",
      "81 [D loss: 0.566042, acc.: 87.50%] [G loss: 1.043043]\n",
      "82 [D loss: 0.575861, acc.: 85.94%] [G loss: 0.983882]\n",
      "83 [D loss: 0.608450, acc.: 71.88%] [G loss: 0.968271]\n",
      "84 [D loss: 0.616435, acc.: 67.19%] [G loss: 0.981063]\n",
      "85 [D loss: 0.622521, acc.: 71.88%] [G loss: 1.078198]\n",
      "86 [D loss: 0.623236, acc.: 56.25%] [G loss: 1.153784]\n",
      "87 [D loss: 0.641162, acc.: 54.69%] [G loss: 1.166499]\n",
      "88 [D loss: 0.632766, acc.: 62.50%] [G loss: 1.182459]\n",
      "89 [D loss: 0.642983, acc.: 64.06%] [G loss: 1.131112]\n",
      "90 [D loss: 0.621350, acc.: 67.19%] [G loss: 1.121385]\n",
      "91 [D loss: 0.589848, acc.: 68.75%] [G loss: 1.208584]\n",
      "92 [D loss: 0.572721, acc.: 71.88%] [G loss: 1.151784]\n",
      "93 [D loss: 0.570359, acc.: 67.19%] [G loss: 1.082351]\n",
      "94 [D loss: 0.559185, acc.: 71.88%] [G loss: 1.107558]\n",
      "95 [D loss: 0.573275, acc.: 68.75%] [G loss: 1.120076]\n",
      "96 [D loss: 0.579212, acc.: 71.88%] [G loss: 1.108695]\n",
      "97 [D loss: 0.561575, acc.: 70.31%] [G loss: 1.087412]\n",
      "98 [D loss: 0.590199, acc.: 67.19%] [G loss: 1.057017]\n",
      "99 [D loss: 0.543125, acc.: 71.88%] [G loss: 1.080869]\n",
      "100 [D loss: 0.560383, acc.: 68.75%] [G loss: 1.123311]\n",
      "generated_data\n",
      "101 [D loss: 0.545498, acc.: 67.19%] [G loss: 1.136469]\n",
      "102 [D loss: 0.539539, acc.: 71.88%] [G loss: 1.146304]\n",
      "103 [D loss: 0.529769, acc.: 71.88%] [G loss: 1.186588]\n",
      "104 [D loss: 0.536274, acc.: 70.31%] [G loss: 1.200011]\n",
      "105 [D loss: 0.555026, acc.: 65.62%] [G loss: 1.270852]\n",
      "106 [D loss: 0.533954, acc.: 71.88%] [G loss: 1.268764]\n",
      "107 [D loss: 0.569559, acc.: 71.88%] [G loss: 1.283717]\n",
      "108 [D loss: 0.571754, acc.: 71.88%] [G loss: 1.187891]\n",
      "109 [D loss: 0.577558, acc.: 67.19%] [G loss: 1.190159]\n",
      "110 [D loss: 0.617617, acc.: 64.06%] [G loss: 1.104871]\n",
      "111 [D loss: 0.688153, acc.: 65.62%] [G loss: 1.165421]\n",
      "112 [D loss: 0.686494, acc.: 65.62%] [G loss: 1.253233]\n",
      "113 [D loss: 0.583528, acc.: 65.62%] [G loss: 1.223065]\n",
      "114 [D loss: 0.565189, acc.: 64.06%] [G loss: 1.271109]\n",
      "115 [D loss: 0.576467, acc.: 78.12%] [G loss: 1.170285]\n",
      "116 [D loss: 0.628256, acc.: 82.81%] [G loss: 1.396676]\n",
      "117 [D loss: 0.583160, acc.: 79.69%] [G loss: 1.324600]\n",
      "118 [D loss: 0.559196, acc.: 84.38%] [G loss: 1.314161]\n",
      "119 [D loss: 0.559929, acc.: 90.62%] [G loss: 1.229942]\n",
      "120 [D loss: 0.570003, acc.: 70.31%] [G loss: 1.255591]\n",
      "121 [D loss: 0.560539, acc.: 75.00%] [G loss: 1.251363]\n",
      "122 [D loss: 0.632996, acc.: 70.31%] [G loss: 1.254326]\n",
      "123 [D loss: 0.618084, acc.: 57.81%] [G loss: 1.289891]\n",
      "124 [D loss: 0.659477, acc.: 50.00%] [G loss: 1.255133]\n",
      "125 [D loss: 0.626051, acc.: 57.81%] [G loss: 1.228099]\n",
      "126 [D loss: 0.633506, acc.: 62.50%] [G loss: 1.312402]\n",
      "127 [D loss: 0.587533, acc.: 65.62%] [G loss: 1.277189]\n",
      "128 [D loss: 0.589068, acc.: 64.06%] [G loss: 1.316664]\n",
      "129 [D loss: 0.519130, acc.: 70.31%] [G loss: 1.321402]\n",
      "130 [D loss: 0.504697, acc.: 70.31%] [G loss: 1.469291]\n",
      "131 [D loss: 0.421890, acc.: 92.19%] [G loss: 1.546567]\n",
      "132 [D loss: 0.453141, acc.: 87.50%] [G loss: 1.357045]\n",
      "133 [D loss: 0.464488, acc.: 85.94%] [G loss: 1.361771]\n",
      "134 [D loss: 0.472565, acc.: 85.94%] [G loss: 1.527193]\n",
      "135 [D loss: 0.593152, acc.: 56.25%] [G loss: 1.616979]\n",
      "136 [D loss: 0.636745, acc.: 56.25%] [G loss: 1.374900]\n",
      "137 [D loss: 0.767957, acc.: 37.50%] [G loss: 1.409437]\n",
      "138 [D loss: 0.678081, acc.: 64.06%] [G loss: 1.482227]\n",
      "139 [D loss: 0.700804, acc.: 65.62%] [G loss: 1.490603]\n",
      "140 [D loss: 0.598668, acc.: 70.31%] [G loss: 1.599472]\n",
      "141 [D loss: 0.538664, acc.: 71.88%] [G loss: 1.469196]\n",
      "142 [D loss: 0.516462, acc.: 71.88%] [G loss: 1.369339]\n",
      "143 [D loss: 0.505692, acc.: 71.88%] [G loss: 1.319261]\n",
      "144 [D loss: 0.468484, acc.: 78.12%] [G loss: 1.370612]\n",
      "145 [D loss: 0.440999, acc.: 85.94%] [G loss: 1.386860]\n",
      "146 [D loss: 0.411904, acc.: 95.31%] [G loss: 1.454427]\n",
      "147 [D loss: 0.383336, acc.: 98.44%] [G loss: 1.427243]\n",
      "148 [D loss: 0.390732, acc.: 96.88%] [G loss: 1.451843]\n",
      "149 [D loss: 0.340539, acc.: 100.00%] [G loss: 1.516519]\n",
      "150 [D loss: 0.363233, acc.: 98.44%] [G loss: 1.539888]\n",
      "151 [D loss: 0.371455, acc.: 96.88%] [G loss: 1.594137]\n",
      "152 [D loss: 0.372349, acc.: 100.00%] [G loss: 1.692889]\n",
      "153 [D loss: 0.446085, acc.: 92.19%] [G loss: 1.683315]\n",
      "154 [D loss: 0.466047, acc.: 92.19%] [G loss: 1.513057]\n",
      "155 [D loss: 0.616247, acc.: 68.75%] [G loss: 1.477420]\n",
      "156 [D loss: 0.606661, acc.: 59.38%] [G loss: 1.575805]\n",
      "157 [D loss: 0.627458, acc.: 62.50%] [G loss: 1.506532]\n",
      "158 [D loss: 0.592828, acc.: 64.06%] [G loss: 1.588603]\n",
      "159 [D loss: 0.509229, acc.: 71.88%] [G loss: 1.657682]\n",
      "160 [D loss: 0.513784, acc.: 71.88%] [G loss: 1.626073]\n",
      "161 [D loss: 0.487544, acc.: 71.88%] [G loss: 1.579523]\n",
      "162 [D loss: 0.473369, acc.: 71.88%] [G loss: 1.537166]\n",
      "163 [D loss: 0.478653, acc.: 71.88%] [G loss: 1.437738]\n",
      "164 [D loss: 0.501856, acc.: 71.88%] [G loss: 1.282246]\n",
      "165 [D loss: 0.501099, acc.: 71.88%] [G loss: 1.298987]\n",
      "166 [D loss: 0.532932, acc.: 71.88%] [G loss: 1.252880]\n",
      "167 [D loss: 0.503537, acc.: 71.88%] [G loss: 1.273452]\n",
      "168 [D loss: 0.493359, acc.: 71.88%] [G loss: 1.356107]\n",
      "169 [D loss: 0.512938, acc.: 71.88%] [G loss: 1.287134]\n",
      "170 [D loss: 0.524712, acc.: 71.88%] [G loss: 1.247252]\n",
      "171 [D loss: 0.511072, acc.: 71.88%] [G loss: 1.260140]\n",
      "172 [D loss: 0.502135, acc.: 71.88%] [G loss: 1.297440]\n",
      "173 [D loss: 0.516313, acc.: 73.44%] [G loss: 1.338134]\n",
      "174 [D loss: 0.515106, acc.: 73.44%] [G loss: 1.349802]\n",
      "175 [D loss: 0.526897, acc.: 73.44%] [G loss: 1.312747]\n",
      "176 [D loss: 0.512186, acc.: 73.44%] [G loss: 1.264445]\n",
      "177 [D loss: 0.517478, acc.: 73.44%] [G loss: 1.270841]\n",
      "178 [D loss: 0.509006, acc.: 73.44%] [G loss: 1.229832]\n",
      "179 [D loss: 0.521422, acc.: 73.44%] [G loss: 1.189845]\n",
      "180 [D loss: 0.509821, acc.: 73.44%] [G loss: 1.237668]\n",
      "181 [D loss: 0.522216, acc.: 73.44%] [G loss: 1.198851]\n",
      "182 [D loss: 0.510094, acc.: 73.44%] [G loss: 1.243436]\n",
      "183 [D loss: 0.515354, acc.: 73.44%] [G loss: 1.224693]\n",
      "184 [D loss: 0.501897, acc.: 73.44%] [G loss: 1.234475]\n",
      "185 [D loss: 0.518591, acc.: 73.44%] [G loss: 1.223486]\n",
      "186 [D loss: 0.499239, acc.: 73.44%] [G loss: 1.308440]\n",
      "187 [D loss: 0.526417, acc.: 73.44%] [G loss: 1.222282]\n",
      "188 [D loss: 0.513573, acc.: 73.44%] [G loss: 1.253011]\n",
      "189 [D loss: 0.515930, acc.: 73.44%] [G loss: 1.206334]\n",
      "190 [D loss: 0.514853, acc.: 73.44%] [G loss: 1.166060]\n",
      "191 [D loss: 0.510209, acc.: 73.44%] [G loss: 1.183873]\n",
      "192 [D loss: 0.506324, acc.: 73.44%] [G loss: 1.237501]\n",
      "193 [D loss: 0.512891, acc.: 73.44%] [G loss: 1.177004]\n",
      "194 [D loss: 0.504530, acc.: 73.44%] [G loss: 1.251873]\n",
      "195 [D loss: 0.511725, acc.: 73.44%] [G loss: 1.220047]\n",
      "196 [D loss: 0.509103, acc.: 73.44%] [G loss: 1.204242]\n",
      "197 [D loss: 0.514037, acc.: 73.44%] [G loss: 1.219963]\n",
      "198 [D loss: 0.526116, acc.: 70.31%] [G loss: 1.203427]\n",
      "199 [D loss: 0.514717, acc.: 73.44%] [G loss: 1.163408]\n",
      "200 [D loss: 0.511226, acc.: 71.88%] [G loss: 1.152800]\n",
      "generated_data\n",
      "201 [D loss: 0.500039, acc.: 73.44%] [G loss: 1.163360]\n",
      "202 [D loss: 0.507043, acc.: 73.44%] [G loss: 1.259920]\n",
      "203 [D loss: 0.516157, acc.: 73.44%] [G loss: 1.169298]\n",
      "204 [D loss: 0.507605, acc.: 71.88%] [G loss: 1.281215]\n",
      "205 [D loss: 0.511382, acc.: 73.44%] [G loss: 1.255661]\n",
      "206 [D loss: 0.506649, acc.: 73.44%] [G loss: 1.219444]\n",
      "207 [D loss: 0.532352, acc.: 71.88%] [G loss: 1.227730]\n",
      "208 [D loss: 0.506484, acc.: 73.44%] [G loss: 1.214838]\n",
      "209 [D loss: 0.504168, acc.: 73.44%] [G loss: 1.135563]\n",
      "210 [D loss: 0.536397, acc.: 68.75%] [G loss: 1.213791]\n",
      "211 [D loss: 0.533547, acc.: 70.31%] [G loss: 1.245226]\n",
      "212 [D loss: 0.614301, acc.: 68.75%] [G loss: 1.218701]\n",
      "213 [D loss: 0.530330, acc.: 71.88%] [G loss: 1.168780]\n",
      "214 [D loss: 0.533643, acc.: 71.88%] [G loss: 1.218571]\n",
      "215 [D loss: 0.542255, acc.: 71.88%] [G loss: 1.173420]\n",
      "216 [D loss: 0.518370, acc.: 71.88%] [G loss: 1.210490]\n",
      "217 [D loss: 0.526663, acc.: 70.31%] [G loss: 1.154778]\n",
      "218 [D loss: 0.562069, acc.: 68.75%] [G loss: 1.190329]\n",
      "219 [D loss: 0.524344, acc.: 71.88%] [G loss: 1.161563]\n",
      "220 [D loss: 0.533330, acc.: 71.88%] [G loss: 1.161610]\n",
      "221 [D loss: 0.531425, acc.: 70.31%] [G loss: 1.175087]\n",
      "222 [D loss: 0.521205, acc.: 71.88%] [G loss: 1.152769]\n",
      "223 [D loss: 0.525774, acc.: 71.88%] [G loss: 1.111332]\n",
      "224 [D loss: 0.590304, acc.: 70.31%] [G loss: 1.157912]\n",
      "225 [D loss: 0.522181, acc.: 71.88%] [G loss: 1.201502]\n",
      "226 [D loss: 0.566359, acc.: 70.31%] [G loss: 1.168460]\n",
      "227 [D loss: 0.543361, acc.: 71.88%] [G loss: 1.139436]\n",
      "228 [D loss: 0.524945, acc.: 71.88%] [G loss: 1.140879]\n",
      "229 [D loss: 0.517141, acc.: 70.31%] [G loss: 1.133470]\n",
      "230 [D loss: 0.526617, acc.: 71.88%] [G loss: 1.157483]\n",
      "231 [D loss: 0.521708, acc.: 71.88%] [G loss: 1.125577]\n",
      "232 [D loss: 0.529678, acc.: 73.44%] [G loss: 1.142410]\n",
      "233 [D loss: 0.546121, acc.: 70.31%] [G loss: 1.159103]\n",
      "234 [D loss: 0.534398, acc.: 71.88%] [G loss: 1.163259]\n",
      "235 [D loss: 0.513365, acc.: 71.88%] [G loss: 1.130597]\n",
      "236 [D loss: 0.539052, acc.: 70.31%] [G loss: 1.152862]\n",
      "237 [D loss: 0.519161, acc.: 71.88%] [G loss: 1.083223]\n",
      "238 [D loss: 0.523924, acc.: 71.88%] [G loss: 1.072987]\n",
      "239 [D loss: 0.509423, acc.: 71.88%] [G loss: 1.174115]\n",
      "240 [D loss: 0.556649, acc.: 68.75%] [G loss: 1.163050]\n",
      "241 [D loss: 0.530014, acc.: 71.88%] [G loss: 1.119633]\n",
      "242 [D loss: 0.559363, acc.: 67.19%] [G loss: 1.142020]\n",
      "243 [D loss: 0.527209, acc.: 68.75%] [G loss: 1.185792]\n",
      "244 [D loss: 0.538954, acc.: 70.31%] [G loss: 1.113037]\n",
      "245 [D loss: 0.550858, acc.: 70.31%] [G loss: 1.032516]\n",
      "246 [D loss: 0.550660, acc.: 70.31%] [G loss: 1.085814]\n",
      "247 [D loss: 0.715913, acc.: 67.19%] [G loss: 1.486087]\n",
      "248 [D loss: 0.579746, acc.: 68.75%] [G loss: 1.370593]\n",
      "249 [D loss: 0.608379, acc.: 67.19%] [G loss: 1.188483]\n",
      "250 [D loss: 0.569273, acc.: 68.75%] [G loss: 1.126713]\n",
      "251 [D loss: 0.543139, acc.: 71.88%] [G loss: 1.077051]\n",
      "252 [D loss: 0.536201, acc.: 71.88%] [G loss: 1.093874]\n",
      "253 [D loss: 0.532479, acc.: 71.88%] [G loss: 1.084446]\n",
      "254 [D loss: 0.522834, acc.: 71.88%] [G loss: 1.095512]\n",
      "255 [D loss: 0.519556, acc.: 71.88%] [G loss: 1.104968]\n",
      "256 [D loss: 0.526168, acc.: 71.88%] [G loss: 1.097477]\n",
      "257 [D loss: 0.516680, acc.: 71.88%] [G loss: 1.096775]\n",
      "258 [D loss: 0.523346, acc.: 71.88%] [G loss: 1.093102]\n",
      "259 [D loss: 0.555666, acc.: 68.75%] [G loss: 1.079175]\n",
      "260 [D loss: 0.523680, acc.: 71.88%] [G loss: 1.087730]\n",
      "261 [D loss: 0.518565, acc.: 71.88%] [G loss: 1.084395]\n",
      "262 [D loss: 0.526734, acc.: 71.88%] [G loss: 1.080587]\n",
      "263 [D loss: 0.521774, acc.: 71.88%] [G loss: 1.095851]\n",
      "264 [D loss: 0.511742, acc.: 71.88%] [G loss: 1.122540]\n",
      "265 [D loss: 0.543292, acc.: 70.31%] [G loss: 1.100705]\n",
      "266 [D loss: 0.521807, acc.: 70.31%] [G loss: 1.132314]\n",
      "267 [D loss: 0.517735, acc.: 71.88%] [G loss: 1.151157]\n",
      "268 [D loss: 0.518295, acc.: 71.88%] [G loss: 1.118474]\n",
      "269 [D loss: 0.528969, acc.: 70.31%] [G loss: 1.118690]\n",
      "270 [D loss: 0.519269, acc.: 71.88%] [G loss: 1.105762]\n",
      "271 [D loss: 0.515827, acc.: 71.88%] [G loss: 1.127713]\n",
      "272 [D loss: 0.524674, acc.: 70.31%] [G loss: 1.111695]\n",
      "273 [D loss: 0.518152, acc.: 73.44%] [G loss: 1.128062]\n",
      "274 [D loss: 0.523633, acc.: 73.44%] [G loss: 1.120860]\n",
      "275 [D loss: 0.512998, acc.: 73.44%] [G loss: 1.104334]\n",
      "276 [D loss: 0.511766, acc.: 73.44%] [G loss: 1.122059]\n",
      "277 [D loss: 0.512642, acc.: 71.88%] [G loss: 1.140436]\n",
      "278 [D loss: 0.518121, acc.: 71.88%] [G loss: 1.115751]\n",
      "279 [D loss: 0.526646, acc.: 73.44%] [G loss: 1.118121]\n",
      "280 [D loss: 0.518725, acc.: 71.88%] [G loss: 1.101667]\n",
      "281 [D loss: 0.511882, acc.: 73.44%] [G loss: 1.101266]\n",
      "282 [D loss: 0.511682, acc.: 73.44%] [G loss: 1.087394]\n",
      "283 [D loss: 0.518722, acc.: 71.88%] [G loss: 1.069876]\n",
      "284 [D loss: 0.505774, acc.: 73.44%] [G loss: 1.103283]\n",
      "285 [D loss: 0.522807, acc.: 71.88%] [G loss: 1.098620]\n",
      "286 [D loss: 0.524470, acc.: 68.75%] [G loss: 1.055651]\n",
      "287 [D loss: 0.541826, acc.: 70.31%] [G loss: 1.092826]\n",
      "288 [D loss: 0.528150, acc.: 71.88%] [G loss: 1.091549]\n",
      "289 [D loss: 0.517317, acc.: 70.31%] [G loss: 1.119369]\n",
      "290 [D loss: 0.520009, acc.: 71.88%] [G loss: 1.094575]\n",
      "291 [D loss: 0.531300, acc.: 71.88%] [G loss: 1.099645]\n",
      "292 [D loss: 0.519155, acc.: 71.88%] [G loss: 1.089584]\n",
      "293 [D loss: 0.523785, acc.: 70.31%] [G loss: 1.092985]\n",
      "294 [D loss: 0.529411, acc.: 70.31%] [G loss: 1.076753]\n",
      "295 [D loss: 0.525105, acc.: 71.88%] [G loss: 1.095398]\n",
      "296 [D loss: 0.525969, acc.: 70.31%] [G loss: 1.114437]\n",
      "297 [D loss: 0.517055, acc.: 71.88%] [G loss: 1.125478]\n",
      "298 [D loss: 0.526609, acc.: 70.31%] [G loss: 1.089327]\n",
      "299 [D loss: 0.520071, acc.: 71.88%] [G loss: 1.095979]\n",
      "300 [D loss: 0.523035, acc.: 71.88%] [G loss: 1.105938]\n",
      "generated_data\n",
      "301 [D loss: 0.523525, acc.: 71.88%] [G loss: 1.115304]\n",
      "302 [D loss: 0.522175, acc.: 70.31%] [G loss: 1.129617]\n",
      "303 [D loss: 0.522103, acc.: 71.88%] [G loss: 1.099867]\n",
      "304 [D loss: 0.517483, acc.: 71.88%] [G loss: 1.119056]\n",
      "305 [D loss: 0.531672, acc.: 71.88%] [G loss: 1.101959]\n",
      "306 [D loss: 0.528446, acc.: 71.88%] [G loss: 1.082787]\n",
      "307 [D loss: 0.511472, acc.: 71.88%] [G loss: 1.080955]\n",
      "308 [D loss: 0.517115, acc.: 71.88%] [G loss: 1.066088]\n",
      "309 [D loss: 0.514976, acc.: 71.88%] [G loss: 1.067964]\n",
      "310 [D loss: 0.533303, acc.: 68.75%] [G loss: 1.094194]\n",
      "311 [D loss: 0.513311, acc.: 71.88%] [G loss: 1.059375]\n",
      "312 [D loss: 0.539311, acc.: 68.75%] [G loss: 1.091837]\n",
      "313 [D loss: 0.516245, acc.: 70.31%] [G loss: 1.071653]\n",
      "314 [D loss: 0.521684, acc.: 71.88%] [G loss: 1.071239]\n",
      "315 [D loss: 0.518160, acc.: 71.88%] [G loss: 1.112122]\n",
      "316 [D loss: 0.526368, acc.: 71.88%] [G loss: 1.134822]\n",
      "317 [D loss: 0.523856, acc.: 71.88%] [G loss: 1.094956]\n",
      "318 [D loss: 0.510679, acc.: 71.88%] [G loss: 1.180359]\n",
      "319 [D loss: 0.529300, acc.: 70.31%] [G loss: 1.089078]\n",
      "320 [D loss: 0.511676, acc.: 71.88%] [G loss: 1.096521]\n",
      "321 [D loss: 0.522638, acc.: 71.88%] [G loss: 1.079335]\n",
      "322 [D loss: 0.523692, acc.: 71.88%] [G loss: 1.066931]\n",
      "323 [D loss: 0.530119, acc.: 70.31%] [G loss: 1.087831]\n",
      "324 [D loss: 0.513433, acc.: 71.88%] [G loss: 1.112092]\n",
      "325 [D loss: 0.512830, acc.: 71.88%] [G loss: 1.091734]\n",
      "326 [D loss: 0.520915, acc.: 71.88%] [G loss: 1.091028]\n",
      "327 [D loss: 0.512585, acc.: 71.88%] [G loss: 1.108410]\n",
      "328 [D loss: 0.515643, acc.: 71.88%] [G loss: 1.096106]\n",
      "329 [D loss: 0.518220, acc.: 71.88%] [G loss: 1.080617]\n",
      "330 [D loss: 0.509608, acc.: 73.44%] [G loss: 1.100945]\n",
      "331 [D loss: 0.515488, acc.: 71.88%] [G loss: 1.070959]\n",
      "332 [D loss: 0.516549, acc.: 71.88%] [G loss: 1.121331]\n",
      "333 [D loss: 0.513835, acc.: 73.44%] [G loss: 1.084247]\n",
      "334 [D loss: 0.516935, acc.: 73.44%] [G loss: 1.093910]\n",
      "335 [D loss: 0.515982, acc.: 71.88%] [G loss: 1.087243]\n",
      "336 [D loss: 0.516620, acc.: 71.88%] [G loss: 1.098317]\n",
      "337 [D loss: 0.519257, acc.: 70.31%] [G loss: 1.046404]\n",
      "338 [D loss: 0.508977, acc.: 71.88%] [G loss: 1.097266]\n",
      "339 [D loss: 0.514954, acc.: 70.31%] [G loss: 1.088118]\n",
      "340 [D loss: 0.517462, acc.: 71.88%] [G loss: 1.102108]\n",
      "341 [D loss: 0.532720, acc.: 70.31%] [G loss: 1.086031]\n",
      "342 [D loss: 0.514061, acc.: 71.88%] [G loss: 1.083464]\n",
      "343 [D loss: 0.517315, acc.: 71.88%] [G loss: 1.077767]\n",
      "344 [D loss: 0.512103, acc.: 71.88%] [G loss: 1.051929]\n",
      "345 [D loss: 0.510564, acc.: 71.88%] [G loss: 1.071865]\n",
      "346 [D loss: 0.508699, acc.: 71.88%] [G loss: 1.096212]\n",
      "347 [D loss: 0.523072, acc.: 71.88%] [G loss: 1.082486]\n",
      "348 [D loss: 0.536263, acc.: 70.31%] [G loss: 1.116909]\n",
      "349 [D loss: 0.515268, acc.: 71.88%] [G loss: 1.097489]\n",
      "350 [D loss: 0.513185, acc.: 71.88%] [G loss: 1.098722]\n",
      "351 [D loss: 0.514229, acc.: 71.88%] [G loss: 1.090536]\n",
      "352 [D loss: 0.509707, acc.: 71.88%] [G loss: 1.095975]\n",
      "353 [D loss: 0.524443, acc.: 71.88%] [G loss: 1.087195]\n",
      "354 [D loss: 0.515247, acc.: 71.88%] [G loss: 1.071347]\n",
      "355 [D loss: 0.513214, acc.: 71.88%] [G loss: 1.067924]\n",
      "356 [D loss: 0.510717, acc.: 71.88%] [G loss: 1.059276]\n",
      "357 [D loss: 0.518379, acc.: 71.88%] [G loss: 1.062063]\n",
      "358 [D loss: 0.518540, acc.: 71.88%] [G loss: 1.085003]\n",
      "359 [D loss: 0.510095, acc.: 73.44%] [G loss: 1.082007]\n",
      "360 [D loss: 0.518113, acc.: 71.88%] [G loss: 1.089635]\n",
      "361 [D loss: 0.521373, acc.: 71.88%] [G loss: 1.101890]\n",
      "362 [D loss: 0.514343, acc.: 71.88%] [G loss: 1.094287]\n",
      "363 [D loss: 0.508419, acc.: 73.44%] [G loss: 1.094755]\n",
      "364 [D loss: 0.514928, acc.: 73.44%] [G loss: 1.104705]\n",
      "365 [D loss: 0.512363, acc.: 73.44%] [G loss: 1.056952]\n",
      "366 [D loss: 0.518588, acc.: 71.88%] [G loss: 1.059909]\n",
      "367 [D loss: 0.506370, acc.: 71.88%] [G loss: 1.093846]\n",
      "368 [D loss: 0.506081, acc.: 71.88%] [G loss: 1.118699]\n",
      "369 [D loss: 0.511338, acc.: 73.44%] [G loss: 1.131858]\n",
      "370 [D loss: 0.522677, acc.: 71.88%] [G loss: 1.125298]\n",
      "371 [D loss: 0.519396, acc.: 71.88%] [G loss: 1.090628]\n",
      "372 [D loss: 0.508771, acc.: 71.88%] [G loss: 1.115136]\n",
      "373 [D loss: 0.506575, acc.: 71.88%] [G loss: 1.113251]\n",
      "374 [D loss: 0.512364, acc.: 71.88%] [G loss: 1.084519]\n",
      "375 [D loss: 0.511188, acc.: 71.88%] [G loss: 1.096185]\n",
      "376 [D loss: 0.515306, acc.: 71.88%] [G loss: 1.089697]\n",
      "377 [D loss: 0.521896, acc.: 71.88%] [G loss: 1.077858]\n",
      "378 [D loss: 0.512168, acc.: 71.88%] [G loss: 1.152848]\n",
      "379 [D loss: 0.519279, acc.: 71.88%] [G loss: 1.081460]\n",
      "380 [D loss: 0.518937, acc.: 71.88%] [G loss: 1.121521]\n",
      "381 [D loss: 0.502363, acc.: 73.44%] [G loss: 1.134828]\n",
      "382 [D loss: 0.503426, acc.: 73.44%] [G loss: 1.127927]\n",
      "383 [D loss: 0.509845, acc.: 71.88%] [G loss: 1.091568]\n",
      "384 [D loss: 0.513061, acc.: 73.44%] [G loss: 1.108842]\n",
      "385 [D loss: 0.507847, acc.: 73.44%] [G loss: 1.068660]\n",
      "386 [D loss: 0.511900, acc.: 73.44%] [G loss: 1.127626]\n",
      "387 [D loss: 0.512856, acc.: 73.44%] [G loss: 1.075177]\n",
      "388 [D loss: 0.507825, acc.: 73.44%] [G loss: 1.106422]\n",
      "389 [D loss: 0.512550, acc.: 73.44%] [G loss: 1.093113]\n",
      "390 [D loss: 0.502709, acc.: 73.44%] [G loss: 1.113032]\n",
      "391 [D loss: 0.528765, acc.: 71.88%] [G loss: 1.115362]\n",
      "392 [D loss: 0.515379, acc.: 70.31%] [G loss: 1.147775]\n",
      "393 [D loss: 0.515898, acc.: 71.88%] [G loss: 1.109463]\n",
      "394 [D loss: 0.501050, acc.: 73.44%] [G loss: 1.105579]\n",
      "395 [D loss: 0.516873, acc.: 73.44%] [G loss: 1.082711]\n",
      "396 [D loss: 0.517050, acc.: 71.88%] [G loss: 1.101146]\n",
      "397 [D loss: 0.520391, acc.: 71.88%] [G loss: 1.068515]\n",
      "398 [D loss: 0.510640, acc.: 71.88%] [G loss: 1.095783]\n",
      "399 [D loss: 0.504733, acc.: 73.44%] [G loss: 1.094373]\n",
      "400 [D loss: 0.516364, acc.: 73.44%] [G loss: 1.100099]\n",
      "generated_data\n"
     ]
    }
   ],
   "source": [
    "model = GAN\n",
    "\n",
    "#Training the GAN model chosen: Vanilla GAN, CGAN, DCGAN, etc.\n",
    "synthesizer = model(gan_args)\n",
    "synthesizer.train(df, train_args)"
   ]
  },
  {
   "cell_type": "code",
   "execution_count": null,
   "metadata": {
    "colab": {
     "base_uri": "https://localhost:8080/"
    },
    "executionInfo": {
     "elapsed": 26024,
     "status": "ok",
     "timestamp": 1607930100937,
     "user": {
      "displayName": "Shan Ali",
      "photoUrl": "https://lh3.googleusercontent.com/a-/AOh14Gh3aQprFkCQ0-5AIz6GbtMQqSuTNzJejMdIv9a1=s64",
      "userId": "03005408048802988275"
     },
     "user_tz": 0
    },
    "id": "mYc0H-PuJ7lt",
    "outputId": "174c14fd-c574-4374-9873-69080386f0a0"
   },
   "outputs": [
    {
     "name": "stdout",
     "output_type": "stream",
     "text": [
      "mkdir: cannot create directory ‘model/gan’: File exists\n",
      "mkdir: cannot create directory ‘model/gan/saved’: File exists\n"
     ]
    }
   ],
   "source": [
    "!mkdir model/gan\n",
    "!mkdir model/gan/saved"
   ]
  },
  {
   "cell_type": "code",
   "execution_count": null,
   "metadata": {
    "id": "KzntybfRyD1k"
   },
   "outputs": [],
   "source": [
    "#You can easily save the trained generator and loaded it aftwerwards\n",
    "\n",
    "synthesizer.save('model/gan/saved', 'generator_patients')"
   ]
  },
  {
   "cell_type": "markdown",
   "metadata": {
    "id": "7BeswxI6IAI0"
   },
   "source": [
    "Let's take a look at the Generator and Discriminator models. "
   ]
  },
  {
   "cell_type": "code",
   "execution_count": null,
   "metadata": {
    "colab": {
     "base_uri": "https://localhost:8080/"
    },
    "executionInfo": {
     "elapsed": 26015,
     "status": "ok",
     "timestamp": 1607930100940,
     "user": {
      "displayName": "Shan Ali",
      "photoUrl": "https://lh3.googleusercontent.com/a-/AOh14Gh3aQprFkCQ0-5AIz6GbtMQqSuTNzJejMdIv9a1=s64",
      "userId": "03005408048802988275"
     },
     "user_tz": 0
    },
    "id": "BrzrZ7ioz3sx",
    "outputId": "aaca5a4e-c9fc-4386-e052-a7834c10ad7a"
   },
   "outputs": [
    {
     "name": "stdout",
     "output_type": "stream",
     "text": [
      "Model: \"functional_1\"\n",
      "_________________________________________________________________\n",
      "Layer (type)                 Output Shape              Param #   \n",
      "=================================================================\n",
      "input_1 (InputLayer)         [(32, 32)]                0         \n",
      "_________________________________________________________________\n",
      "dense (Dense)                (32, 128)                 4224      \n",
      "_________________________________________________________________\n",
      "dense_1 (Dense)              (32, 256)                 33024     \n",
      "_________________________________________________________________\n",
      "dense_2 (Dense)              (32, 512)                 131584    \n",
      "_________________________________________________________________\n",
      "dense_3 (Dense)              (32, 61)                  31293     \n",
      "=================================================================\n",
      "Total params: 200,125\n",
      "Trainable params: 200,125\n",
      "Non-trainable params: 0\n",
      "_________________________________________________________________\n"
     ]
    }
   ],
   "source": [
    "synthesizer.generator.summary()"
   ]
  },
  {
   "cell_type": "code",
   "execution_count": null,
   "metadata": {
    "colab": {
     "base_uri": "https://localhost:8080/"
    },
    "executionInfo": {
     "elapsed": 26008,
     "status": "ok",
     "timestamp": 1607930100941,
     "user": {
      "displayName": "Shan Ali",
      "photoUrl": "https://lh3.googleusercontent.com/a-/AOh14Gh3aQprFkCQ0-5AIz6GbtMQqSuTNzJejMdIv9a1=s64",
      "userId": "03005408048802988275"
     },
     "user_tz": 0
    },
    "id": "08wQukVHz5fi",
    "outputId": "1ab540e5-5ff1-481e-a612-96c731e20db3"
   },
   "outputs": [
    {
     "name": "stdout",
     "output_type": "stream",
     "text": [
      "Model: \"functional_3\"\n",
      "_________________________________________________________________\n",
      "Layer (type)                 Output Shape              Param #   \n",
      "=================================================================\n",
      "input_2 (InputLayer)         [(32, 61)]                0         \n",
      "_________________________________________________________________\n",
      "dense_4 (Dense)              (32, 512)                 31744     \n",
      "_________________________________________________________________\n",
      "dropout (Dropout)            (32, 512)                 0         \n",
      "_________________________________________________________________\n",
      "dense_5 (Dense)              (32, 256)                 131328    \n",
      "_________________________________________________________________\n",
      "dropout_1 (Dropout)          (32, 256)                 0         \n",
      "_________________________________________________________________\n",
      "dense_6 (Dense)              (32, 128)                 32896     \n",
      "_________________________________________________________________\n",
      "dense_7 (Dense)              (32, 1)                   129       \n",
      "=================================================================\n",
      "Total params: 196,097\n",
      "Trainable params: 0\n",
      "Non-trainable params: 196,097\n",
      "_________________________________________________________________\n"
     ]
    }
   ],
   "source": [
    "synthesizer.discriminator.summary()"
   ]
  },
  {
   "cell_type": "markdown",
   "metadata": {
    "id": "oKD1WYVHH6ID"
   },
   "source": [
    "## Evaluation\n",
    "\n",
    "Now, that we have trained the model let's see if the generated data is similar to the actual data. \n",
    "\n",
    "We plot the generated data for some of the model steps and see how the plot for the generated data changes as the networks learns the embedding more accurately. "
   ]
  },
  {
   "cell_type": "code",
   "execution_count": null,
   "metadata": {
    "id": "EVPhtlTQz7PM"
   },
   "outputs": [],
   "source": [
    "models = {'GAN': ['GAN', False, synthesizer.generator]}"
   ]
  },
  {
   "cell_type": "code",
   "execution_count": null,
   "metadata": {
    "colab": {
     "base_uri": "https://localhost:8080/",
     "height": 1000
    },
    "executionInfo": {
     "elapsed": 30870,
     "status": "ok",
     "timestamp": 1607930105821,
     "user": {
      "displayName": "Shan Ali",
      "photoUrl": "https://lh3.googleusercontent.com/a-/AOh14Gh3aQprFkCQ0-5AIz6GbtMQqSuTNzJejMdIv9a1=s64",
      "userId": "03005408048802988275"
     },
     "user_tz": 0
    },
    "id": "5DxCIbS9z9Xi",
    "outputId": "0af189e4-a203-42f5-baab-360c3e80acba"
   },
   "outputs": [
    {
     "name": "stderr",
     "output_type": "stream",
     "text": [
      "No handles with labels found to put in legend.\n"
     ]
    },
    {
     "data": {
      "image/png": "[encoded data removed]",
      "text/plain": [
       "<Figure size 1008x1080 with 10 Axes>"
      ]
     },
     "metadata": {
      "needs_background": "light",
      "tags": []
     },
     "output_type": "display_data"
    }
   ],
   "source": [
    "import matplotlib.pyplot as plt\n",
    "\n",
    "# Setup parameters visualization parameters\n",
    "seed = 17\n",
    "test_size = 5000 # number of fraud cases\n",
    "noise_dim = 32\n",
    "\n",
    "np.random.seed(seed)\n",
    "z = np.random.normal(size=(test_size, noise_dim))\n",
    "real = synthesizer.get_data_batch(train=df, batch_size=test_size, seed=seed)\n",
    "real_samples = pd.DataFrame(real, columns=data_cols)\n",
    "\n",
    "model_names = ['GAN']\n",
    "colors = ['deepskyblue','blue']\n",
    "markers = ['o','^']\n",
    "\n",
    "col1, col2 = 'Flow Duration', 'Subflow Fwd Bytes'\n",
    "\n",
    "base_dir = 'model/'\n",
    "\n",
    "#Actual fraud data visualization\n",
    "# model_steps = [ 0, 100, 200, 300, 400, 500, 1000, 2000, 3000, 4000, 5000]\n",
    "model_steps = [ 0, 100, 200, 300, 400]\n",
    "rows = len(model_steps)\n",
    "columns = 5\n",
    "\n",
    "axarr = [[]]*len(model_steps)\n",
    "\n",
    "fig = plt.figure(figsize=(14,rows*3))\n",
    "\n",
    "for model_step_ix, model_step in enumerate(model_steps):        \n",
    "    axarr[model_step_ix] = plt.subplot(rows, columns, model_step_ix*columns + 1)\n",
    "    \n",
    "    for group, color, marker in zip(real_samples.groupby('Label'), colors, markers):\n",
    "        plt.scatter( group[1][[col1]], group[1][[col2]], marker=marker, edgecolors=color, facecolors='none' )\n",
    "    \n",
    "    plt.title('Actual Patients Data')\n",
    "    plt.ylabel(col2) # Only add y label to left plot\n",
    "    plt.xlabel(col1)\n",
    "    xlims, ylims = axarr[model_step_ix].get_xlim(), axarr[model_step_ix].get_ylim()\n",
    "    \n",
    "    if model_step_ix == 0: \n",
    "        legend = plt.legend()\n",
    "        legend.get_frame().set_facecolor('white')\n",
    "    \n",
    "    i=0\n",
    "    [model_name, with_class, generator_model] = models['GAN']\n",
    "\n",
    "    generator_model.load_weights( base_dir + '_generator_model_weights_step_'+str(model_step)+'.h5')\n",
    "\n",
    "    ax = plt.subplot(rows, columns, model_step_ix*columns + 1 + (i+1) )\n",
    "\n",
    "    g_z = generator_model.predict(z)\n",
    "    gen_samples = pd.DataFrame(g_z, columns=data_cols)\n",
    "    plt.scatter( gen_samples[[col1]], gen_samples[[col2]], marker=markers[0], edgecolors=colors[0], facecolors='none' )\n",
    "    plt.title(\"Generated Data\")   \n",
    "    plt.xlabel(data_cols[0])\n",
    "    ax.set_xlim(xlims), ax.set_ylim(ylims)\n",
    "\n",
    "plt.suptitle('Comparison of GAN outputs', size=16, fontweight='bold')\n",
    "plt.tight_layout(rect=[0.075,0,1,0.95])\n",
    "\n",
    "# Adding text labels for traning steps\n",
    "vpositions = np.array([ i._position.bounds[1] for i in axarr ])\n",
    "vpositions += ((vpositions[0] - vpositions[1]) * 0.35 )\n",
    "for model_step_ix, model_step in enumerate( model_steps ):\n",
    "    fig.text( 0.05, vpositions[model_step_ix], 'training\\nstep\\n'+str(model_step), ha='center', va='center', size=12)\n",
    "\n",
    "plt.savefig('Comparison_of_GAN_outputs.png')"
   ]
  },
  {
   "cell_type": "code",
   "execution_count": null,
   "metadata": {
    "colab": {
     "base_uri": "https://localhost:8080/"
    },
    "executionInfo": {
     "elapsed": 30863,
     "status": "ok",
     "timestamp": 1607930105823,
     "user": {
      "displayName": "Shan Ali",
      "photoUrl": "https://lh3.googleusercontent.com/a-/AOh14Gh3aQprFkCQ0-5AIz6GbtMQqSuTNzJejMdIv9a1=s64",
      "userId": "03005408048802988275"
     },
     "user_tz": 0
    },
    "id": "7G0YnihkJmom",
    "outputId": "a1caeda3-bd36-405a-cf5f-f494d804d223"
   },
   "outputs": [
    {
     "name": "stdout",
     "output_type": "stream",
     "text": [
      "(5000, 61)\n",
      "Index(['Flow Duration', 'Total Fwd Packet', 'Total Bwd packets',\n",
      "       'Total Length of Fwd Packet', 'Total Length of Bwd Packet',\n",
      "       'Fwd Packet Length Max', 'Fwd Packet Length Min',\n",
      "       'Fwd Packet Length Mean', 'Fwd Packet Length Std',\n",
      "       'Bwd Packet Length Max', 'Bwd Packet Length Min',\n",
      "       'Bwd Packet Length Mean', 'Bwd Packet Length Std', 'Flow Bytes/s',\n",
      "       'Flow Packets/s', 'Flow IAT Mean', 'Flow IAT Max', 'Flow IAT Min',\n",
      "       'Fwd IAT Total', 'Fwd IAT Mean', 'Fwd IAT Max', 'Fwd IAT Min',\n",
      "       'Bwd IAT Total', 'Bwd IAT Mean', 'Bwd IAT Std', 'Bwd IAT Max',\n",
      "       'Bwd IAT Min', 'Fwd PSH Flags', 'Fwd Header Length',\n",
      "       'Bwd Header Length', 'Fwd Packets/s', 'Bwd Packets/s',\n",
      "       'Packet Length Min', 'Packet Length Max', 'Packet Length Mean',\n",
      "       'Packet Length Std', 'Packet Length Variance', 'FIN Flag Count',\n",
      "       'SYN Flag Count', 'RST Flag Count', 'PSH Flag Count', 'ACK Flag Count',\n",
      "       'Down/Up Ratio', 'Average Packet Size', 'Fwd Segment Size Avg',\n",
      "       'Bwd Segment Size Avg', 'Bwd Bytes/Bulk Avg', 'Bwd Packet/Bulk Avg',\n",
      "       'Bwd Bulk Rate Avg', 'Subflow Fwd Packets', 'Subflow Fwd Bytes',\n",
      "       'Subflow Bwd Bytes', 'FWD Init Win Bytes', 'Bwd Init Win Bytes',\n",
      "       'Fwd Act Data Pkts', 'Fwd Seg Size Min', 'Idle Mean', 'Idle Std',\n",
      "       'Idle Max', 'Idle Min', 'Label'],\n",
      "      dtype='object')\n",
      "Index(['Flow Duration', 'Total Fwd Packet', 'Total Bwd packets',\n",
      "       'Total Length of Fwd Packet', 'Total Length of Bwd Packet',\n",
      "       'Fwd Packet Length Max', 'Fwd Packet Length Min',\n",
      "       'Fwd Packet Length Mean', 'Fwd Packet Length Std',\n",
      "       'Bwd Packet Length Max', 'Bwd Packet Length Min',\n",
      "       'Bwd Packet Length Mean', 'Bwd Packet Length Std', 'Flow Bytes/s',\n",
      "       'Flow Packets/s', 'Flow IAT Mean', 'Flow IAT Max', 'Flow IAT Min',\n",
      "       'Fwd IAT Total', 'Fwd IAT Mean', 'Fwd IAT Max', 'Fwd IAT Min',\n",
      "       'Bwd IAT Total', 'Bwd IAT Mean', 'Bwd IAT Std', 'Bwd IAT Max',\n",
      "       'Bwd IAT Min', 'Fwd PSH Flags', 'Fwd Header Length',\n",
      "       'Bwd Header Length', 'Fwd Packets/s', 'Bwd Packets/s',\n",
      "       'Packet Length Min', 'Packet Length Max', 'Packet Length Mean',\n",
      "       'Packet Length Std', 'Packet Length Variance', 'FIN Flag Count',\n",
      "       'SYN Flag Count', 'RST Flag Count', 'PSH Flag Count', 'ACK Flag Count',\n",
      "       'Down/Up Ratio', 'Average Packet Size', 'Fwd Segment Size Avg',\n",
      "       'Bwd Segment Size Avg', 'Bwd Bytes/Bulk Avg', 'Bwd Packet/Bulk Avg',\n",
      "       'Bwd Bulk Rate Avg', 'Subflow Fwd Packets', 'Subflow Fwd Bytes',\n",
      "       'Subflow Bwd Bytes', 'FWD Init Win Bytes', 'Bwd Init Win Bytes',\n",
      "       'Fwd Act Data Pkts', 'Fwd Seg Size Min', 'Idle Mean', 'Idle Std',\n",
      "       'Idle Max', 'Idle Min', 'Label'],\n",
      "      dtype='object')\n",
      "(42716, 61) (5000, 61)\n"
     ]
    }
   ],
   "source": [
    "print(gen_samples.shape)\n",
    "gen_samples = gen_samples.loc[:, ~gen_samples.columns.str.contains('^Unnamed')]\n",
    "# gen_samples.drop('Unnamed: 0', axis=1, inplace=True)\n",
    "print(gen_samples.columns)\n",
    "print(df.columns)\n",
    "print(df.shape, gen_samples.shape)"
   ]
  },
  {
   "cell_type": "code",
   "execution_count": null,
   "metadata": {
    "colab": {
     "base_uri": "https://localhost:8080/"
    },
    "executionInfo": {
     "elapsed": 31200,
     "status": "ok",
     "timestamp": 1607930106167,
     "user": {
      "displayName": "Shan Ali",
      "photoUrl": "https://lh3.googleusercontent.com/a-/AOh14Gh3aQprFkCQ0-5AIz6GbtMQqSuTNzJejMdIv9a1=s64",
      "userId": "03005408048802988275"
     },
     "user_tz": 0
    },
    "id": "hSt11s--yu4G",
    "outputId": "c5bf6cd3-4a96-406d-bfaa-44a7b2eac7ad"
   },
   "outputs": [
    {
     "name": "stdout",
     "output_type": "stream",
     "text": [
      "1    5000\n",
      "Name: Label, dtype: int64\n"
     ]
    }
   ],
   "source": [
    "import math\n",
    "\n",
    "\n",
    "x = gen_samples['Label']\n",
    "x[x < 0] = 0\n",
    "x[x > 1] = 1\n",
    "x = np.round(x)\n",
    "a = [math.floor(float(i)) for i in x]\n",
    "gen_samples['Label'] = a\n",
    "# gen_samples['Label']\n",
    "print(gen_samples['Label'].value_counts())\n",
    "gen_samples.to_csv('Generated_sample.csv')"
   ]
  },
  {
   "cell_type": "markdown",
   "metadata": {
    "id": "bL0YbAaCIho4"
   },
   "source": [
    "Now let's try to do a feature by feature comparision between the generated data and the actual data. We will use python's `table_evaluator` library to compare the features. "
   ]
  },
  {
   "cell_type": "markdown",
   "metadata": {
    "id": "z691TmXEIzzA"
   },
   "source": [
    "We call the `visual_evaluation` method to compare the actual date(`df`) and the generated data(`gen_df`)."
   ]
  },
  {
   "cell_type": "code",
   "execution_count": null,
   "metadata": {
    "colab": {
     "base_uri": "https://localhost:8080/",
     "height": 367
    },
    "executionInfo": {
     "elapsed": 31195,
     "status": "error",
     "timestamp": 1607930106179,
     "user": {
      "displayName": "Shan Ali",
      "photoUrl": "https://lh3.googleusercontent.com/a-/AOh14Gh3aQprFkCQ0-5AIz6GbtMQqSuTNzJejMdIv9a1=s64",
      "userId": "03005408048802988275"
     },
     "user_tz": 0
    },
    "id": "DON2kMjZ05ZN",
    "outputId": "585bbd5b-8bb2-4e61-b309-89ad2777ac5d"
   },
   "outputs": [
    {
     "ename": "ModuleNotFoundError",
     "evalue": "ignored",
     "output_type": "error",
     "traceback": [
      "\u001b[0;31m---------------------------------------------------------------------------\u001b[0m",
      "\u001b[0;31mModuleNotFoundError\u001b[0m                       Traceback (most recent call last)",
      "\u001b[0;32m<ipython-input-18-ad991d2f4cb8>\u001b[0m in \u001b[0;36m<module>\u001b[0;34m()\u001b[0m\n\u001b[1;32m      6\u001b[0m \u001b[0;31m# table_evaluator.visual_evaluation()\u001b[0m\u001b[0;34m\u001b[0m\u001b[0;34m\u001b[0m\u001b[0;34m\u001b[0m\u001b[0m\n\u001b[1;32m      7\u001b[0m \u001b[0;34m\u001b[0m\u001b[0m\n\u001b[0;32m----> 8\u001b[0;31m \u001b[0;32mfrom\u001b[0m \u001b[0mtable_evaluator\u001b[0m \u001b[0;32mimport\u001b[0m \u001b[0mload_data\u001b[0m\u001b[0;34m,\u001b[0m \u001b[0mTableEvaluator\u001b[0m\u001b[0;34m\u001b[0m\u001b[0;34m\u001b[0m\u001b[0m\n\u001b[0m\u001b[1;32m      9\u001b[0m \u001b[0;34m\u001b[0m\u001b[0m\n\u001b[1;32m     10\u001b[0m cat_cols = ['MARITAL', 'RACE', 'ETHNICITY', 'GENDER', 'BIRTHPLACE', 'CITY', 'STATE',\n",
      "\u001b[0;31mModuleNotFoundError\u001b[0m: No module named 'table_evaluator'",
      "",
      "\u001b[0;31m---------------------------------------------------------------------------\u001b[0;32m\nNOTE: If your import is failing due to a missing package, you can\nmanually install dependencies using either !pip or !apt.\n\nTo view examples of installing some common dependencies, click the\n\"Open Examples\" button below.\n\u001b[0;31m---------------------------------------------------------------------------\u001b[0m\n"
     ]
    }
   ],
   "source": [
    "# from table_evaluator import load_data, TableEvaluator\n",
    "\n",
    "# print(len(df), len(gen_samples))\n",
    "# table_evaluator =  TableEvaluator(df, gen_samples)\n",
    "\n",
    "# table_evaluator.visual_evaluation()\n",
    "\n",
    "from table_evaluator import load_data, TableEvaluator\n",
    "\n",
    "cat_cols = ['MARITAL', 'RACE', 'ETHNICITY', 'GENDER', 'BIRTHPLACE', 'CITY', 'STATE',\n",
    "       'COUNTY', 'ZIP', 'HEALTHCARE_EXPENSES', 'HEALTHCARE_COVERAGE']\n",
    "\n",
    "print(len(df), len(gen_samples))\n",
    "table_evaluator =  TableEvaluator(df, gen_samples)\n",
    "\n",
    "table_evaluator.visual_evaluation()"
   ]
  },
  {
   "cell_type": "markdown",
   "metadata": {
    "id": "xMzPe5GDI9mX"
   },
   "source": [
    " ## Conclusion\n",
    "\n",
    "Some of the features in the syntehtic data match closely with actual data but there are some other features which were not learnt perfectly by the model. We can keep playing with the model and its hyperparameters to improve the model further. \n",
    "\n",
    "This post demonstrates that its fairly simply to use GANs to generate synthetic data where the actual data is sensitive in nature and can't be shared publicly. "
   ]
  },
  {
   "cell_type": "code",
   "execution_count": null,
   "metadata": {
    "id": "BvAH9-35DpaG"
   },
   "outputs": [],
   "source": []
  }
 ],
 "metadata": {
  "accelerator": "GPU",
  "colab": {
   "collapsed_sections": [],
   "machine_shape": "hm",
   "name": "all_synthetic_data.ipynb",
   "provenance": [
    {
     "file_id": "19PlM9yEaOAocAKgNbpPAQ6Z9HnAFxutw",
     "timestamp": 1607912199749
    },
    {
     "file_id": "1vBnSrTP8liPlnGg5ArzUk08oDLnERDbF",
     "timestamp": 1607907382729
    }
   ]
  },
  "kernelspec": {
   "display_name": "Python 3",
   "language": "python",
   "name": "python3"
  },
  "language_info": {
   "codemirror_mode": {
    "name": "ipython",
    "version": 3
   },
   "file_extension": ".py",
   "mimetype": "text/x-python",
   "name": "python",
   "nbconvert_exporter": "python",
   "pygments_lexer": "ipython3",
   "version": "3.8.3"
  }
 },
 "nbformat": 4,
 "nbformat_minor": 1
}
