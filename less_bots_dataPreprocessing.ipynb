{
 "cells": [
  {
   "cell_type": "markdown",
   "metadata": {},
   "source": [
    "# Import liberaries"
   ]
  },
  {
   "cell_type": "code",
   "execution_count": 1,
   "metadata": {},
   "outputs": [],
   "source": [
    "import importlib\n",
    "import header\n",
    "importlib.reload(header)\n",
    "from header import *"
   ]
  },
  {
   "cell_type": "markdown",
   "metadata": {},
   "source": [
    "# Loading dataset"
   ]
  },
  {
   "cell_type": "code",
   "execution_count": 2,
   "metadata": {},
   "outputs": [],
   "source": [
    "data = pd.read_csv(\"./datasets/virut.csv\") #every wine varibale is a isntance of pandas\n",
    "data = data.loc[:, ~data.columns.str.contains('^Unnamed')] # Removing of 'Umnamed' column\n",
    "data = pd.DataFrame(data) #converting it to Pandas DataFrame"
   ]
  },
  {
   "cell_type": "code",
   "execution_count": 3,
   "metadata": {
    "scrolled": true
   },
   "outputs": [
    {
     "name": "stdout",
     "output_type": "stream",
     "text": [
      "Initial shape of ISCX dataset:  (248677, 61)\n",
      "\n",
      "Weightage of benign and malicious data.\n",
      "0    246929\n",
      "1      1748\n",
      "Name: Label, dtype: int64\n"
     ]
    }
   ],
   "source": [
    "# print(\"Total count of values is: \",data['Label'].count())\n",
    "print('Initial shape of ISCX dataset: ', data.shape)\n",
    "print('\\nWeightage of benign and malicious data.')\n",
    "print(data['Label'].value_counts())"
   ]
  },
  {
   "cell_type": "markdown",
   "metadata": {},
   "source": [
    "# Balancing of data label classes"
   ]
  },
  {
   "cell_type": "markdown",
   "metadata": {},
   "source": [
    "# Selection of Benign indexes and saving of benign data to a file\n"
   ]
  },
  {
   "cell_type": "code",
   "execution_count": 4,
   "metadata": {},
   "outputs": [
    {
     "name": "stdout",
     "output_type": "stream",
     "text": [
      "0    176929\n",
      "Name: Label, dtype: int64\n"
     ]
    }
   ],
   "source": [
    "np.random.seed(0)\n",
    "remove_row = 70000 # number of rows to be removed\n",
    "\n",
    "zero_label_df = pd.DataFrame(data.query('Label == 0')) # dataframe to store benigns\n",
    "zero_label_df.to_csv('./datasets/only_benign.csv', index = False)\n",
    "\n",
    "# Random regenration of indexes\n",
    "indexes = np.random.choice(zero_label_df.index, remove_row, replace=False) \n",
    "# droping random 70000 benigns fom dataframe\n",
    "df_after_drop = zero_label_df.drop(indexes)\n",
    "print(df_after_drop['Label'].value_counts())"
   ]
  },
  {
   "cell_type": "markdown",
   "metadata": {},
   "source": [
    "# Selection of bots indexes and data transformation"
   ]
  },
  {
   "cell_type": "code",
   "execution_count": 6,
   "metadata": {},
   "outputs": [],
   "source": [
    "one_label_df = pd.DataFrame(data[data['Label'] != 0]) # selecting 'Label = 1' from data\n",
    "one_label_df.to_csv('./datasets/only_bots.csv', index=False)# Saving to .csv\n",
    "dataframes = [df_after_drop, one_label_df] # Puttings both frames in a list\n",
    "concat_df = pd.concat(dataframes) # concatenation of frames\n",
    "concat_df.to_csv('./datasets/ISCX_Botnet(Prep).csv', index = False) # Saving to .csv"
   ]
  },
  {
   "cell_type": "markdown",
   "metadata": {},
   "source": [
    "# Loading preprocessed file"
   ]
  },
  {
   "cell_type": "code",
   "execution_count": 7,
   "metadata": {
    "scrolled": true
   },
   "outputs": [
    {
     "name": "stdout",
     "output_type": "stream",
     "text": [
      "Final shape of ISCX dataset:  (178677, 61)\n",
      "\n",
      "New Weightage of benign and malicious data.\n",
      "0    176929\n",
      "1      1748\n",
      "Name: Label, dtype: int64\n"
     ]
    }
   ],
   "source": [
    "prep_df = pd.read_csv(\"./datasets/ISCX_Botnet(Prep).csv\") # load preprocessed file to data \n",
    "print('Final shape of ISCX dataset: ', prep_df.shape)\n",
    "print('\\nNew Weightage of benign and malicious data.')\n",
    "print(prep_df['Label'].value_counts())"
   ]
  },
  {
   "cell_type": "markdown",
   "metadata": {},
   "source": [
    "#  Generating synthetic data using GANs"
   ]
  },
  {
   "cell_type": "code",
   "execution_count": 26,
   "metadata": {},
   "outputs": [],
   "source": [
    "# GAN class\n",
    "from keras.utils.vis_utils import plot_model\n",
    "class GAN():\n",
    "    \n",
    "    def __init__(self, gan_args):\n",
    "        [self.batch_size, lr, self.noise_dim,\n",
    "         self.data_dim, layers_dim] = gan_args\n",
    "\n",
    "        self.generator = Generator(self.batch_size).\\\n",
    "            build_model(input_shape=(self.noise_dim,), dim=layers_dim, data_dim=self.data_dim)\n",
    "\n",
    "        self.discriminator = Discriminator(self.batch_size).\\\n",
    "            build_model(input_shape=(self.data_dim,), dim=layers_dim)\n",
    "\n",
    "        optimizer = Adam(lr, 0.5)\n",
    "\n",
    "        # Build and compile the discriminator\n",
    "        self.discriminator.compile(loss='binary_crossentropy',\n",
    "                                   optimizer=optimizer,\n",
    "                                   metrics=['accuracy'])\n",
    "\n",
    "        # The generator takes noise as input and generates imgs\n",
    "        z = Input(shape=(self.noise_dim,))\n",
    "        record = self.generator(z)\n",
    "\n",
    "        # For the combined model we will only train the generator\n",
    "        self.discriminator.trainable = False\n",
    "\n",
    "        # The discriminator takes generated images as input and determines validity\n",
    "        validity = self.discriminator(record)\n",
    "\n",
    "        # The combined model  (stacked generator and discriminator)\n",
    "        # Trains the generator to fool the discriminator\n",
    "        self.combined = Model(z, validity)\n",
    "        self.combined.compile(loss='binary_crossentropy', optimizer=optimizer)\n",
    "\n",
    "    def get_data_batch(self, train, batch_size, seed=0):\n",
    "        \n",
    "        start_i = (batch_size * seed) % len(train)\n",
    "        stop_i = start_i + batch_size\n",
    "        shuffle_seed = (batch_size * seed) // len(train)\n",
    "        np.random.seed(shuffle_seed)\n",
    "        train_ix = np.random.choice(list(train.index), replace=False, size=len(train))  # wasteful to shuffle every time\n",
    "        train_ix = list(train_ix) + list(train_ix)  # duplicate to cover ranges past the end of the set\n",
    "        x = train.loc[train_ix[start_i: stop_i]].values\n",
    "        return np.reshape(x, (batch_size, -1))\n",
    "\n",
    "    def plot_history(d1_hist, d2_hist, g_hist, a1_hist, a2_hist):\n",
    "        # plot loss\n",
    "        plt.subplot(2, 1, 1)\n",
    "        plt.plot(d1_hist, label='d-real')\n",
    "        plt.plot(d2_hist, label='d-fake')\n",
    "        plt.plot(g_hist, label='gen')\n",
    "        plt.legend()\n",
    "        # plot discriminator accuracy\n",
    "        plt.subplot(2, 1, 2)\n",
    "        plt.plot(a1_hist, label='acc-real')\n",
    "        plt.plot(a2_hist, label='acc-fake')\n",
    "        plt.legend()\n",
    "        # save plot to file\n",
    "        plt.savefig('images/plot_line_plot_loss.png')\n",
    "        plt.close()\n",
    "\n",
    "        \n",
    "    def train(self, data, train_arguments):\n",
    "        [cache_prefix, epochs, sample_interval] = train_arguments\n",
    "        \n",
    "        data_cols = data.columns\n",
    "\n",
    "        # Adversarial ground truths\n",
    "        valid = np.ones((self.batch_size, 1))\n",
    "        fake = np.zeros((self.batch_size, 1))\n",
    "        \n",
    "        # prepare lists for storing stats each iteration\n",
    "        d1_hist, d2_hist, g_hist, a1_hist, a2_hist = list(), list(), list(), list(), list()\n",
    "\n",
    "        for epoch in range(epochs):    \n",
    "            # ---------------------\n",
    "            #  Train Discriminator\n",
    "            # ---------------------\n",
    "            batch_data = self.get_data_batch(data, self.batch_size)\n",
    "            noise = tf.random.normal((self.batch_size, self.noise_dim))\n",
    "\n",
    "            # Generate a batch of new images\n",
    "            gen_data = self.generator.predict(noise)\n",
    "    \n",
    "            # Train the discriminator\n",
    "            d_loss_real = self.discriminator.train_on_batch(batch_data, valid)\n",
    "            d_loss_fake = self.discriminator.train_on_batch(gen_data, fake)\n",
    "            d_loss = 0.5 * np.add(d_loss_real, d_loss_fake)\n",
    "    \n",
    "            # ---------------------\n",
    "            #  Train Generator\n",
    "            # ---------------------\n",
    "            noise = tf.random.normal((self.batch_size, self.noise_dim))\n",
    "            # Train the generator (to have the discriminator label samples as valid)\n",
    "            g_loss = self.combined.train_on_batch(noise, valid)\n",
    "    \n",
    "            # Plot the progress\n",
    "            print(\"%d [D loss: %f, acc.: %.2f%%] [G loss: %f]\" % (epoch, d_loss[0], 100 * d_loss[1], g_loss))\n",
    "            \n",
    "            # record history\n",
    "            d1_hist.append(d_loss_real[0])\n",
    "            d2_hist.append(d_loss_fake[0])\n",
    "            g_hist.append(g_loss)\n",
    "            a1_hist.append(d_loss_real[1])\n",
    "            a2_hist.append(d_loss_fake[1])\n",
    "            \n",
    "            # If at save interval => save generated events\n",
    "            if epoch % sample_interval == 0:\n",
    "                #Test here data generation step\n",
    "                # save model checkpoints\n",
    "                model_checkpoint_base_name = 'model/' + cache_prefix + '_{}_model_weights_step_{}.h5'\n",
    "                self.generator.save_weights(model_checkpoint_base_name.format('generator', epoch))\n",
    "                self.discriminator.save_weights(model_checkpoint_base_name.format('discriminator', epoch))\n",
    "\n",
    "                #Here is generating the data\n",
    "                z = tf.random.normal((432, self.noise_dim))\n",
    "                gen_data = self.generator(z)\n",
    "                \n",
    "        plt.subplot(2, 1, 1)\n",
    "        plt.plot(d1_hist, label='d-real')\n",
    "        plt.plot(d2_hist, label='d-fake')\n",
    "        plt.plot(g_hist, label='gen')\n",
    "        plt.legend()\n",
    "        # plot discriminator accuracy\n",
    "        plt.subplot(2, 1, 2)\n",
    "        plt.plot(a1_hist, label='acc-real')\n",
    "        plt.plot(a2_hist, label='acc-fake')\n",
    "        plt.legend()\n",
    "        # save plot to file\n",
    "        plt.savefig('plot_line_plot_loss.png')\n",
    "        plt.close()\n",
    "#         plot_history(d1_hist, d2_hist, g_hist, a1_hist, a2_hist)\n",
    "                \n",
    "\n",
    "    def save(self, path, name):\n",
    "        assert os.path.isdir(path) == True, \\\n",
    "            \"Please provide a valid path. Path must be a directory.\"\n",
    "        model_path = os.path.join(path, name)\n",
    "        self.generator.save_weights(model_path)  # Load the generator\n",
    "        return\n",
    "    \n",
    "    def load(self, path):\n",
    "        assert os.path.isdir(path) == True, \\\n",
    "            \"Please provide a valid path. Path must be a directory.\"\n",
    "        self.generator = Generator(self.batch_size)\n",
    "        self.generator = self.generator.load_weights(path)\n",
    "        return self.generator\n",
    "    \n",
    "class Generator():\n",
    "    def __init__(self, batch_size):\n",
    "        self.batch_size=batch_size\n",
    "        \n",
    "    def build_model(self, input_shape, dim, data_dim):\n",
    "        input= Input(shape=input_shape, batch_size=self.batch_size)\n",
    "        x = Dense(dim, activation='relu')(input)\n",
    "        x = Dense(dim * 2, activation='relu')(x)\n",
    "        x = Dense(dim * 4, activation='relu')(x)\n",
    "        x = Dense(data_dim)(x)\n",
    "        \n",
    "        return Model(inputs=input, outputs=x)\n",
    "\n",
    "class Discriminator():\n",
    "    def __init__(self,batch_size):\n",
    "        self.batch_size=batch_size\n",
    "    \n",
    "    def build_model(self, input_shape, dim):\n",
    "        input = Input(shape=input_shape, batch_size=self.batch_size)\n",
    "        x = Dense(dim * 4, activation='relu')(input)\n",
    "        x = Dropout(0.1)(x)\n",
    "        x = Dense(dim * 2, activation='relu')(x)\n",
    "        x = Dropout(0.1)(x)\n",
    "        x = Dense(dim, activation='relu')(x)\n",
    "        x = Dense(1, activation='sigmoid')(x)\n",
    "        return Model(inputs=input, outputs=x)"
   ]
  },
  {
   "cell_type": "code",
   "execution_count": 27,
   "metadata": {},
   "outputs": [
    {
     "name": "stdout",
     "output_type": "stream",
     "text": [
      "(1748, 61)\n"
     ]
    }
   ],
   "source": [
    "# dataset loading\n",
    "df = pd.read_csv('./datasets/only_bots.csv')\n",
    "data_cols = df.columns\n",
    "print(df.shape)\n",
    "# initialise training parameters\n",
    "#batch size of 32 and train it for 401 epochs\n",
    "noise_dim = 32\n",
    "dim = 128\n",
    "batch_size = 32\n",
    "\n",
    "log_step = 100\n",
    "epochs = 400+1\n",
    "learning_rate = 5e-4\n",
    "models_dir = 'model'\n",
    "\n",
    "df[data_cols] = df[data_cols]\n",
    "\n",
    "gan_args = [batch_size, learning_rate, noise_dim, df.shape[1], dim]\n",
    "train_args = ['', epochs, log_step]"
   ]
  },
  {
   "cell_type": "code",
   "execution_count": 28,
   "metadata": {},
   "outputs": [
    {
     "name": "stderr",
     "output_type": "stream",
     "text": [
      "A subdirectory or file model already exists.\n"
     ]
    }
   ],
   "source": [
    "# making of directory\n",
    "!mkdir model"
   ]
  },
  {
   "cell_type": "code",
   "execution_count": 29,
   "metadata": {},
   "outputs": [
    {
     "name": "stdout",
     "output_type": "stream",
     "text": [
      "0 [D loss: 0.711778, acc.: 20.31%] [G loss: 0.692753]\n",
      "1 [D loss: 0.666541, acc.: 51.56%] [G loss: 0.698835]\n",
      "2 [D loss: 0.639693, acc.: 53.12%] [G loss: 0.692980]\n",
      "3 [D loss: 0.636832, acc.: 50.00%] [G loss: 0.679058]\n",
      "4 [D loss: 0.647409, acc.: 50.00%] [G loss: 0.651909]\n",
      "5 [D loss: 0.689012, acc.: 50.00%] [G loss: 0.605932]\n",
      "6 [D loss: 0.772284, acc.: 50.00%] [G loss: 0.612317]\n",
      "7 [D loss: 0.783949, acc.: 50.00%] [G loss: 0.613024]\n",
      "8 [D loss: 0.764526, acc.: 50.00%] [G loss: 0.791359]\n",
      "9 [D loss: 0.660307, acc.: 73.44%] [G loss: 1.171026]\n",
      "10 [D loss: 0.623215, acc.: 65.62%] [G loss: 1.330040]\n",
      "11 [D loss: 0.644541, acc.: 54.69%] [G loss: 1.193629]\n",
      "12 [D loss: 0.695269, acc.: 48.44%] [G loss: 0.957796]\n",
      "13 [D loss: 0.695751, acc.: 59.38%] [G loss: 0.930783]\n",
      "14 [D loss: 0.676178, acc.: 64.06%] [G loss: 0.967065]\n",
      "15 [D loss: 0.645987, acc.: 76.56%] [G loss: 1.000821]\n",
      "16 [D loss: 0.645137, acc.: 85.94%] [G loss: 0.933949]\n",
      "17 [D loss: 0.630277, acc.: 89.06%] [G loss: 0.929096]\n",
      "18 [D loss: 0.616298, acc.: 95.31%] [G loss: 0.937414]\n",
      "19 [D loss: 0.593686, acc.: 96.88%] [G loss: 0.945277]\n",
      "20 [D loss: 0.593917, acc.: 95.31%] [G loss: 0.881012]\n",
      "21 [D loss: 0.605988, acc.: 81.25%] [G loss: 0.835809]\n",
      "22 [D loss: 0.620374, acc.: 60.94%] [G loss: 0.782638]\n",
      "23 [D loss: 0.607598, acc.: 65.62%] [G loss: 0.764707]\n",
      "24 [D loss: 0.598062, acc.: 71.88%] [G loss: 0.793920]\n",
      "25 [D loss: 0.584602, acc.: 81.25%] [G loss: 0.823514]\n",
      "26 [D loss: 0.568313, acc.: 92.19%] [G loss: 0.864499]\n",
      "27 [D loss: 0.552701, acc.: 95.31%] [G loss: 0.917940]\n",
      "28 [D loss: 0.551110, acc.: 95.31%] [G loss: 0.897353]\n",
      "29 [D loss: 0.561616, acc.: 85.94%] [G loss: 0.872215]\n",
      "30 [D loss: 0.563933, acc.: 75.00%] [G loss: 0.871958]\n",
      "31 [D loss: 0.529318, acc.: 93.75%] [G loss: 0.925303]\n",
      "32 [D loss: 0.530940, acc.: 89.06%] [G loss: 0.988805]\n",
      "33 [D loss: 0.535704, acc.: 82.81%] [G loss: 0.994262]\n",
      "34 [D loss: 0.551825, acc.: 81.25%] [G loss: 0.953969]\n",
      "35 [D loss: 0.521904, acc.: 93.75%] [G loss: 0.998818]\n",
      "36 [D loss: 0.495787, acc.: 93.75%] [G loss: 1.104767]\n",
      "37 [D loss: 0.472961, acc.: 90.62%] [G loss: 1.155426]\n",
      "38 [D loss: 0.481841, acc.: 87.50%] [G loss: 1.115565]\n",
      "39 [D loss: 0.477247, acc.: 87.50%] [G loss: 1.193973]\n",
      "40 [D loss: 0.429962, acc.: 87.50%] [G loss: 1.255496]\n",
      "41 [D loss: 0.420499, acc.: 89.06%] [G loss: 1.192926]\n",
      "42 [D loss: 0.451009, acc.: 81.25%] [G loss: 1.179841]\n",
      "43 [D loss: 0.453784, acc.: 82.81%] [G loss: 1.174673]\n",
      "44 [D loss: 0.433197, acc.: 92.19%] [G loss: 1.167923]\n",
      "45 [D loss: 0.431067, acc.: 90.62%] [G loss: 1.192156]\n",
      "46 [D loss: 0.505284, acc.: 76.56%] [G loss: 1.325922]\n",
      "47 [D loss: 0.474162, acc.: 82.81%] [G loss: 1.385656]\n",
      "48 [D loss: 0.581319, acc.: 70.31%] [G loss: 1.422617]\n",
      "49 [D loss: 0.615209, acc.: 56.25%] [G loss: 1.396751]\n",
      "50 [D loss: 0.691706, acc.: 50.00%] [G loss: 1.618709]\n",
      "51 [D loss: 0.644275, acc.: 65.62%] [G loss: 1.826743]\n",
      "52 [D loss: 0.587671, acc.: 76.56%] [G loss: 1.788178]\n",
      "53 [D loss: 0.562154, acc.: 76.56%] [G loss: 1.619034]\n",
      "54 [D loss: 0.477385, acc.: 76.56%] [G loss: 1.533431]\n",
      "55 [D loss: 0.436786, acc.: 76.56%] [G loss: 1.472350]\n",
      "56 [D loss: 0.387083, acc.: 87.50%] [G loss: 1.395533]\n",
      "57 [D loss: 0.339720, acc.: 93.75%] [G loss: 1.380869]\n",
      "58 [D loss: 0.357877, acc.: 95.31%] [G loss: 1.292279]\n",
      "59 [D loss: 0.407006, acc.: 89.06%] [G loss: 1.207549]\n",
      "60 [D loss: 0.527861, acc.: 67.19%] [G loss: 1.219704]\n",
      "61 [D loss: 0.651155, acc.: 50.00%] [G loss: 1.181700]\n",
      "62 [D loss: 0.774445, acc.: 40.62%] [G loss: 1.357676]\n",
      "63 [D loss: 0.770574, acc.: 43.75%] [G loss: 1.703997]\n",
      "64 [D loss: 0.671450, acc.: 59.38%] [G loss: 1.785976]\n",
      "65 [D loss: 0.585947, acc.: 76.56%] [G loss: 1.769359]\n",
      "66 [D loss: 0.550294, acc.: 78.12%] [G loss: 1.630364]\n",
      "67 [D loss: 0.493027, acc.: 82.81%] [G loss: 1.745247]\n",
      "68 [D loss: 0.443368, acc.: 82.81%] [G loss: 1.729277]\n",
      "69 [D loss: 0.435267, acc.: 82.81%] [G loss: 1.679831]\n",
      "70 [D loss: 0.411252, acc.: 82.81%] [G loss: 1.665557]\n",
      "71 [D loss: 0.378571, acc.: 84.38%] [G loss: 1.711439]\n",
      "72 [D loss: 0.366447, acc.: 87.50%] [G loss: 1.654308]\n",
      "73 [D loss: 0.373906, acc.: 93.75%] [G loss: 1.526094]\n",
      "74 [D loss: 0.347243, acc.: 92.19%] [G loss: 1.531400]\n",
      "75 [D loss: 0.381534, acc.: 92.19%] [G loss: 1.639956]\n",
      "76 [D loss: 0.337090, acc.: 93.75%] [G loss: 1.660871]\n",
      "77 [D loss: 0.339536, acc.: 93.75%] [G loss: 1.720112]\n",
      "78 [D loss: 0.332926, acc.: 90.62%] [G loss: 1.888458]\n",
      "79 [D loss: 0.324436, acc.: 90.62%] [G loss: 1.822314]\n",
      "80 [D loss: 0.318935, acc.: 89.06%] [G loss: 1.801960]\n",
      "81 [D loss: 0.395263, acc.: 82.81%] [G loss: 1.936658]\n",
      "82 [D loss: 0.425737, acc.: 79.69%] [G loss: 2.212789]\n",
      "83 [D loss: 0.570895, acc.: 67.19%] [G loss: 1.981163]\n",
      "84 [D loss: 0.625658, acc.: 62.50%] [G loss: 1.938478]\n",
      "85 [D loss: 0.472128, acc.: 75.00%] [G loss: 1.693437]\n",
      "86 [D loss: 0.781219, acc.: 62.50%] [G loss: 1.377264]\n",
      "87 [D loss: 0.672383, acc.: 65.62%] [G loss: 1.955473]\n",
      "88 [D loss: 0.690568, acc.: 60.94%] [G loss: 2.520235]\n",
      "89 [D loss: 0.685404, acc.: 56.25%] [G loss: 1.985610]\n",
      "90 [D loss: 0.729821, acc.: 54.69%] [G loss: 1.552899]\n",
      "91 [D loss: 0.695671, acc.: 59.38%] [G loss: 1.314802]\n",
      "92 [D loss: 0.703835, acc.: 57.81%] [G loss: 1.502636]\n",
      "93 [D loss: 0.653708, acc.: 64.06%] [G loss: 1.945989]\n",
      "94 [D loss: 0.663738, acc.: 59.38%] [G loss: 2.033714]\n",
      "95 [D loss: 0.646090, acc.: 62.50%] [G loss: 1.770461]\n",
      "96 [D loss: 0.648770, acc.: 67.19%] [G loss: 1.532793]\n",
      "97 [D loss: 0.604423, acc.: 68.75%] [G loss: 1.572680]\n",
      "98 [D loss: 0.601797, acc.: 67.19%] [G loss: 1.600333]\n",
      "99 [D loss: 0.586832, acc.: 71.88%] [G loss: 1.505594]\n",
      "100 [D loss: 0.626047, acc.: 56.25%] [G loss: 1.458769]\n",
      "101 [D loss: 0.611626, acc.: 59.38%] [G loss: 1.406955]\n",
      "102 [D loss: 0.625382, acc.: 57.81%] [G loss: 1.579499]\n",
      "103 [D loss: 0.573538, acc.: 60.94%] [G loss: 1.510021]\n",
      "104 [D loss: 0.570690, acc.: 64.06%] [G loss: 1.440115]\n",
      "105 [D loss: 0.565104, acc.: 65.62%] [G loss: 1.384154]\n",
      "106 [D loss: 0.556239, acc.: 67.19%] [G loss: 1.416211]\n",
      "107 [D loss: 0.542563, acc.: 68.75%] [G loss: 1.277055]\n",
      "108 [D loss: 0.601303, acc.: 59.38%] [G loss: 1.301790]\n",
      "109 [D loss: 0.557725, acc.: 68.75%] [G loss: 1.437034]\n",
      "110 [D loss: 0.593861, acc.: 65.62%] [G loss: 1.409903]\n",
      "111 [D loss: 0.597648, acc.: 64.06%] [G loss: 1.369334]\n",
      "112 [D loss: 0.545696, acc.: 67.19%] [G loss: 1.300593]\n",
      "113 [D loss: 0.561849, acc.: 64.06%] [G loss: 1.239421]\n",
      "114 [D loss: 0.547412, acc.: 65.62%] [G loss: 1.098317]\n",
      "115 [D loss: 0.554979, acc.: 67.19%] [G loss: 1.483319]\n",
      "116 [D loss: 0.589317, acc.: 64.06%] [G loss: 1.451698]\n",
      "117 [D loss: 0.545651, acc.: 70.31%] [G loss: 1.490083]\n",
      "118 [D loss: 0.548062, acc.: 68.75%] [G loss: 1.478564]\n",
      "119 [D loss: 0.513112, acc.: 70.31%] [G loss: 1.339809]\n",
      "120 [D loss: 0.483120, acc.: 76.56%] [G loss: 1.203044]\n",
      "121 [D loss: 0.486576, acc.: 73.44%] [G loss: 1.154609]\n",
      "122 [D loss: 0.521222, acc.: 70.31%] [G loss: 1.159646]\n",
      "123 [D loss: 0.558077, acc.: 59.38%] [G loss: 1.449728]\n",
      "124 [D loss: 0.462067, acc.: 75.00%] [G loss: 1.685074]\n",
      "125 [D loss: 0.479953, acc.: 71.88%] [G loss: 1.614560]\n",
      "126 [D loss: 0.508657, acc.: 68.75%] [G loss: 1.567142]\n",
      "127 [D loss: 0.439268, acc.: 76.56%] [G loss: 1.422443]\n",
      "128 [D loss: 0.419368, acc.: 82.81%] [G loss: 1.400048]\n",
      "129 [D loss: 0.416880, acc.: 82.81%] [G loss: 1.454515]\n",
      "130 [D loss: 0.423526, acc.: 85.94%] [G loss: 1.447990]\n",
      "131 [D loss: 0.442239, acc.: 84.38%] [G loss: 1.417571]\n",
      "132 [D loss: 0.468746, acc.: 79.69%] [G loss: 1.376756]\n",
      "133 [D loss: 0.480409, acc.: 78.12%] [G loss: 1.378144]\n",
      "134 [D loss: 0.549466, acc.: 65.62%] [G loss: 1.488092]\n",
      "135 [D loss: 0.499486, acc.: 76.56%] [G loss: 1.458810]\n",
      "136 [D loss: 0.585045, acc.: 71.88%] [G loss: 1.448614]\n",
      "137 [D loss: 0.605953, acc.: 67.19%] [G loss: 1.272680]\n",
      "138 [D loss: 0.588116, acc.: 65.62%] [G loss: 1.465979]\n",
      "139 [D loss: 0.608508, acc.: 62.50%] [G loss: 1.528381]\n",
      "140 [D loss: 0.665836, acc.: 64.06%] [G loss: 1.483579]\n",
      "141 [D loss: 0.621332, acc.: 71.88%] [G loss: 1.539232]\n",
      "142 [D loss: 0.636619, acc.: 64.06%] [G loss: 1.260937]\n",
      "143 [D loss: 0.693069, acc.: 53.12%] [G loss: 1.345336]\n",
      "144 [D loss: 0.655866, acc.: 57.81%] [G loss: 1.553965]\n",
      "145 [D loss: 0.791207, acc.: 50.00%] [G loss: 1.674812]\n",
      "146 [D loss: 0.636279, acc.: 65.62%] [G loss: 1.690153]\n",
      "147 [D loss: 0.733529, acc.: 56.25%] [G loss: 1.348141]\n",
      "148 [D loss: 0.700420, acc.: 56.25%] [G loss: 1.521599]\n",
      "149 [D loss: 0.678872, acc.: 53.12%] [G loss: 1.339815]\n",
      "150 [D loss: 0.667672, acc.: 62.50%] [G loss: 1.269376]\n"
     ]
    },
    {
     "name": "stdout",
     "output_type": "stream",
     "text": [
      "151 [D loss: 0.658447, acc.: 57.81%] [G loss: 1.254204]\n",
      "152 [D loss: 0.614032, acc.: 64.06%] [G loss: 1.227262]\n",
      "153 [D loss: 0.630470, acc.: 57.81%] [G loss: 1.277067]\n",
      "154 [D loss: 0.562769, acc.: 73.44%] [G loss: 1.293189]\n",
      "155 [D loss: 0.606421, acc.: 70.31%] [G loss: 1.280790]\n",
      "156 [D loss: 0.549691, acc.: 71.88%] [G loss: 1.271059]\n",
      "157 [D loss: 0.528458, acc.: 70.31%] [G loss: 1.364312]\n",
      "158 [D loss: 0.564505, acc.: 68.75%] [G loss: 1.432845]\n",
      "159 [D loss: 0.548540, acc.: 75.00%] [G loss: 1.459280]\n",
      "160 [D loss: 0.499373, acc.: 81.25%] [G loss: 1.428029]\n",
      "161 [D loss: 0.500405, acc.: 82.81%] [G loss: 1.341471]\n",
      "162 [D loss: 0.489642, acc.: 81.25%] [G loss: 1.289960]\n",
      "163 [D loss: 0.494669, acc.: 73.44%] [G loss: 1.376050]\n",
      "164 [D loss: 0.521631, acc.: 68.75%] [G loss: 1.409669]\n",
      "165 [D loss: 0.489403, acc.: 78.12%] [G loss: 1.592061]\n",
      "166 [D loss: 0.507367, acc.: 76.56%] [G loss: 1.541751]\n",
      "167 [D loss: 0.467656, acc.: 78.12%] [G loss: 1.620477]\n",
      "168 [D loss: 0.528644, acc.: 71.88%] [G loss: 1.500911]\n",
      "169 [D loss: 0.454483, acc.: 78.12%] [G loss: 1.589833]\n",
      "170 [D loss: 0.471126, acc.: 79.69%] [G loss: 1.466234]\n",
      "171 [D loss: 0.527809, acc.: 73.44%] [G loss: 1.326114]\n",
      "172 [D loss: 0.551181, acc.: 71.88%] [G loss: 1.477896]\n",
      "173 [D loss: 0.530799, acc.: 73.44%] [G loss: 1.579185]\n",
      "174 [D loss: 0.500560, acc.: 75.00%] [G loss: 1.522362]\n",
      "175 [D loss: 0.492465, acc.: 76.56%] [G loss: 1.559494]\n",
      "176 [D loss: 0.486288, acc.: 76.56%] [G loss: 1.467636]\n",
      "177 [D loss: 0.479814, acc.: 78.12%] [G loss: 1.409252]\n",
      "178 [D loss: 0.486597, acc.: 75.00%] [G loss: 1.517772]\n",
      "179 [D loss: 0.459182, acc.: 78.12%] [G loss: 1.788718]\n",
      "180 [D loss: 0.442963, acc.: 76.56%] [G loss: 1.343838]\n",
      "181 [D loss: 0.483785, acc.: 73.44%] [G loss: 1.432918]\n",
      "182 [D loss: 0.519523, acc.: 73.44%] [G loss: 1.461393]\n",
      "183 [D loss: 0.495184, acc.: 75.00%] [G loss: 1.605066]\n",
      "184 [D loss: 0.497575, acc.: 76.56%] [G loss: 1.383179]\n",
      "185 [D loss: 0.504389, acc.: 78.12%] [G loss: 1.378536]\n",
      "186 [D loss: 0.494766, acc.: 78.12%] [G loss: 1.291624]\n",
      "187 [D loss: 0.493591, acc.: 75.00%] [G loss: 1.326081]\n",
      "188 [D loss: 0.462598, acc.: 76.56%] [G loss: 1.368263]\n",
      "189 [D loss: 0.457731, acc.: 76.56%] [G loss: 1.534995]\n",
      "190 [D loss: 0.450197, acc.: 76.56%] [G loss: 1.458716]\n",
      "191 [D loss: 0.435761, acc.: 76.56%] [G loss: 1.351211]\n",
      "192 [D loss: 0.472608, acc.: 76.56%] [G loss: 1.382831]\n",
      "193 [D loss: 0.465512, acc.: 76.56%] [G loss: 1.433755]\n",
      "194 [D loss: 0.454831, acc.: 78.12%] [G loss: 1.381584]\n",
      "195 [D loss: 0.456083, acc.: 78.12%] [G loss: 1.361877]\n",
      "196 [D loss: 0.463868, acc.: 76.56%] [G loss: 1.207869]\n",
      "197 [D loss: 0.475583, acc.: 73.44%] [G loss: 1.316476]\n",
      "198 [D loss: 0.472430, acc.: 76.56%] [G loss: 1.371022]\n",
      "199 [D loss: 0.472719, acc.: 76.56%] [G loss: 1.433150]\n",
      "200 [D loss: 0.467890, acc.: 76.56%] [G loss: 1.444531]\n",
      "201 [D loss: 0.453884, acc.: 76.56%] [G loss: 1.414349]\n",
      "202 [D loss: 0.465623, acc.: 75.00%] [G loss: 1.482119]\n",
      "203 [D loss: 0.465424, acc.: 75.00%] [G loss: 1.490983]\n",
      "204 [D loss: 0.455320, acc.: 76.56%] [G loss: 1.412821]\n",
      "205 [D loss: 0.443895, acc.: 76.56%] [G loss: 1.520978]\n",
      "206 [D loss: 0.451955, acc.: 76.56%] [G loss: 1.412099]\n",
      "207 [D loss: 0.431377, acc.: 78.12%] [G loss: 1.432561]\n",
      "208 [D loss: 0.425131, acc.: 76.56%] [G loss: 1.395274]\n",
      "209 [D loss: 0.428094, acc.: 78.12%] [G loss: 1.393784]\n",
      "210 [D loss: 0.420265, acc.: 78.12%] [G loss: 1.334975]\n",
      "211 [D loss: 0.455694, acc.: 73.44%] [G loss: 1.401479]\n",
      "212 [D loss: 0.419172, acc.: 79.69%] [G loss: 1.445262]\n",
      "213 [D loss: 0.442505, acc.: 78.12%] [G loss: 1.436743]\n",
      "214 [D loss: 0.452622, acc.: 78.12%] [G loss: 1.409466]\n",
      "215 [D loss: 0.445373, acc.: 76.56%] [G loss: 1.350269]\n",
      "216 [D loss: 0.444232, acc.: 79.69%] [G loss: 1.449938]\n",
      "217 [D loss: 0.403170, acc.: 79.69%] [G loss: 1.465463]\n",
      "218 [D loss: 0.400630, acc.: 79.69%] [G loss: 1.420625]\n",
      "219 [D loss: 0.426890, acc.: 81.25%] [G loss: 1.391756]\n",
      "220 [D loss: 0.446534, acc.: 79.69%] [G loss: 1.403894]\n",
      "221 [D loss: 0.409906, acc.: 79.69%] [G loss: 1.412468]\n",
      "222 [D loss: 0.421780, acc.: 76.56%] [G loss: 1.450313]\n",
      "223 [D loss: 0.429749, acc.: 78.12%] [G loss: 1.347318]\n",
      "224 [D loss: 0.485001, acc.: 75.00%] [G loss: 1.370114]\n",
      "225 [D loss: 0.463160, acc.: 76.56%] [G loss: 1.414923]\n",
      "226 [D loss: 0.448984, acc.: 76.56%] [G loss: 1.505507]\n",
      "227 [D loss: 0.438074, acc.: 76.56%] [G loss: 1.550534]\n",
      "228 [D loss: 0.417834, acc.: 78.12%] [G loss: 1.523385]\n",
      "229 [D loss: 0.394134, acc.: 79.69%] [G loss: 1.596475]\n",
      "230 [D loss: 0.423817, acc.: 79.69%] [G loss: 1.530665]\n",
      "231 [D loss: 0.416710, acc.: 81.25%] [G loss: 1.532192]\n",
      "232 [D loss: 0.413127, acc.: 79.69%] [G loss: 1.534422]\n",
      "233 [D loss: 0.416768, acc.: 81.25%] [G loss: 1.579876]\n",
      "234 [D loss: 0.432557, acc.: 79.69%] [G loss: 1.520815]\n",
      "235 [D loss: 0.407592, acc.: 81.25%] [G loss: 1.484800]\n",
      "236 [D loss: 0.443632, acc.: 78.12%] [G loss: 1.514244]\n",
      "237 [D loss: 0.429391, acc.: 81.25%] [G loss: 1.476358]\n",
      "238 [D loss: 0.465447, acc.: 78.12%] [G loss: 1.527456]\n",
      "239 [D loss: 0.434208, acc.: 79.69%] [G loss: 1.574974]\n",
      "240 [D loss: 0.449991, acc.: 79.69%] [G loss: 1.536412]\n",
      "241 [D loss: 0.419389, acc.: 76.56%] [G loss: 1.508707]\n",
      "242 [D loss: 0.438696, acc.: 76.56%] [G loss: 1.460797]\n",
      "243 [D loss: 0.451334, acc.: 76.56%] [G loss: 1.489572]\n",
      "244 [D loss: 0.431627, acc.: 79.69%] [G loss: 1.419718]\n",
      "245 [D loss: 0.421828, acc.: 76.56%] [G loss: 1.448142]\n",
      "246 [D loss: 0.416168, acc.: 78.12%] [G loss: 1.406675]\n",
      "247 [D loss: 0.430551, acc.: 78.12%] [G loss: 1.472227]\n",
      "248 [D loss: 0.413188, acc.: 81.25%] [G loss: 1.525785]\n",
      "249 [D loss: 0.414819, acc.: 82.81%] [G loss: 1.527606]\n",
      "250 [D loss: 0.392443, acc.: 79.69%] [G loss: 1.583685]\n",
      "251 [D loss: 0.397134, acc.: 79.69%] [G loss: 1.651224]\n",
      "252 [D loss: 0.396888, acc.: 79.69%] [G loss: 1.497405]\n",
      "253 [D loss: 0.390183, acc.: 84.38%] [G loss: 1.614631]\n",
      "254 [D loss: 0.419072, acc.: 79.69%] [G loss: 1.550185]\n",
      "255 [D loss: 0.427580, acc.: 76.56%] [G loss: 1.530479]\n",
      "256 [D loss: 0.455946, acc.: 78.12%] [G loss: 1.411162]\n",
      "257 [D loss: 0.480784, acc.: 70.31%] [G loss: 1.407941]\n",
      "258 [D loss: 0.456373, acc.: 79.69%] [G loss: 1.523806]\n",
      "259 [D loss: 0.446873, acc.: 79.69%] [G loss: 1.601883]\n",
      "260 [D loss: 0.440928, acc.: 79.69%] [G loss: 1.563302]\n",
      "261 [D loss: 0.434623, acc.: 79.69%] [G loss: 1.534320]\n",
      "262 [D loss: 0.427069, acc.: 79.69%] [G loss: 1.496686]\n",
      "263 [D loss: 0.394585, acc.: 82.81%] [G loss: 1.536274]\n",
      "264 [D loss: 0.401443, acc.: 82.81%] [G loss: 1.574540]\n",
      "265 [D loss: 0.382836, acc.: 82.81%] [G loss: 1.518166]\n",
      "266 [D loss: 0.379710, acc.: 82.81%] [G loss: 1.517153]\n",
      "267 [D loss: 0.385130, acc.: 82.81%] [G loss: 1.562352]\n",
      "268 [D loss: 0.428079, acc.: 79.69%] [G loss: 1.613101]\n",
      "269 [D loss: 0.423653, acc.: 81.25%] [G loss: 1.577866]\n",
      "270 [D loss: 0.423575, acc.: 81.25%] [G loss: 1.642281]\n",
      "271 [D loss: 0.450926, acc.: 78.12%] [G loss: 1.546937]\n",
      "272 [D loss: 0.458347, acc.: 79.69%] [G loss: 1.506808]\n",
      "273 [D loss: 0.415738, acc.: 79.69%] [G loss: 1.676731]\n",
      "274 [D loss: 0.447665, acc.: 79.69%] [G loss: 1.499048]\n",
      "275 [D loss: 0.443088, acc.: 81.25%] [G loss: 1.748962]\n",
      "276 [D loss: 0.409300, acc.: 79.69%] [G loss: 1.677666]\n",
      "277 [D loss: 0.433395, acc.: 79.69%] [G loss: 1.616699]\n",
      "278 [D loss: 0.391786, acc.: 79.69%] [G loss: 1.614933]\n",
      "279 [D loss: 0.414499, acc.: 79.69%] [G loss: 1.675309]\n",
      "280 [D loss: 0.402932, acc.: 79.69%] [G loss: 1.537247]\n",
      "281 [D loss: 0.401569, acc.: 79.69%] [G loss: 1.625081]\n",
      "282 [D loss: 0.417237, acc.: 79.69%] [G loss: 1.558357]\n",
      "283 [D loss: 0.415556, acc.: 79.69%] [G loss: 1.516516]\n",
      "284 [D loss: 0.415321, acc.: 79.69%] [G loss: 1.548274]\n",
      "285 [D loss: 0.411102, acc.: 79.69%] [G loss: 1.541305]\n",
      "286 [D loss: 0.414279, acc.: 79.69%] [G loss: 1.419797]\n",
      "287 [D loss: 0.422188, acc.: 81.25%] [G loss: 1.500485]\n",
      "288 [D loss: 0.434889, acc.: 79.69%] [G loss: 1.409774]\n",
      "289 [D loss: 0.415379, acc.: 79.69%] [G loss: 1.427060]\n",
      "290 [D loss: 0.426543, acc.: 79.69%] [G loss: 1.428860]\n",
      "291 [D loss: 0.395296, acc.: 79.69%] [G loss: 1.436736]\n",
      "292 [D loss: 0.400277, acc.: 81.25%] [G loss: 1.399291]\n",
      "293 [D loss: 0.420455, acc.: 81.25%] [G loss: 1.468380]\n",
      "294 [D loss: 0.400402, acc.: 81.25%] [G loss: 1.467035]\n",
      "295 [D loss: 0.408858, acc.: 81.25%] [G loss: 1.441983]\n",
      "296 [D loss: 0.379943, acc.: 81.25%] [G loss: 1.570766]\n",
      "297 [D loss: 0.363886, acc.: 81.25%] [G loss: 1.472135]\n"
     ]
    },
    {
     "name": "stdout",
     "output_type": "stream",
     "text": [
      "298 [D loss: 0.369817, acc.: 81.25%] [G loss: 1.477893]\n",
      "299 [D loss: 0.351655, acc.: 81.25%] [G loss: 1.478547]\n",
      "300 [D loss: 0.370011, acc.: 81.25%] [G loss: 1.517016]\n",
      "301 [D loss: 0.368910, acc.: 82.81%] [G loss: 1.625701]\n",
      "302 [D loss: 0.362547, acc.: 81.25%] [G loss: 1.612484]\n",
      "303 [D loss: 0.371158, acc.: 81.25%] [G loss: 1.614163]\n",
      "304 [D loss: 0.388519, acc.: 81.25%] [G loss: 1.621290]\n",
      "305 [D loss: 0.396418, acc.: 81.25%] [G loss: 1.670417]\n",
      "306 [D loss: 0.389637, acc.: 81.25%] [G loss: 1.594520]\n",
      "307 [D loss: 0.419655, acc.: 81.25%] [G loss: 1.603302]\n",
      "308 [D loss: 0.429670, acc.: 81.25%] [G loss: 1.724774]\n",
      "309 [D loss: 0.440528, acc.: 81.25%] [G loss: 1.851400]\n",
      "310 [D loss: 0.409863, acc.: 81.25%] [G loss: 1.735593]\n",
      "311 [D loss: 0.417880, acc.: 79.69%] [G loss: 1.641427]\n",
      "312 [D loss: 0.397822, acc.: 79.69%] [G loss: 1.594110]\n",
      "313 [D loss: 0.388897, acc.: 81.25%] [G loss: 1.552408]\n",
      "314 [D loss: 0.385418, acc.: 82.81%] [G loss: 1.692509]\n",
      "315 [D loss: 0.377080, acc.: 82.81%] [G loss: 1.735665]\n",
      "316 [D loss: 0.372279, acc.: 82.81%] [G loss: 1.733756]\n",
      "317 [D loss: 0.368579, acc.: 82.81%] [G loss: 1.699351]\n",
      "318 [D loss: 0.351663, acc.: 82.81%] [G loss: 1.679439]\n",
      "319 [D loss: 0.399158, acc.: 82.81%] [G loss: 1.702984]\n",
      "320 [D loss: 0.426973, acc.: 82.81%] [G loss: 1.557382]\n",
      "321 [D loss: 0.386052, acc.: 82.81%] [G loss: 1.553310]\n",
      "322 [D loss: 0.424053, acc.: 82.81%] [G loss: 1.574377]\n",
      "323 [D loss: 0.428173, acc.: 84.38%] [G loss: 1.538237]\n",
      "324 [D loss: 0.409708, acc.: 81.25%] [G loss: 1.462092]\n",
      "325 [D loss: 0.444550, acc.: 79.69%] [G loss: 1.446984]\n",
      "326 [D loss: 0.419298, acc.: 81.25%] [G loss: 1.513850]\n",
      "327 [D loss: 0.425151, acc.: 81.25%] [G loss: 1.514260]\n",
      "328 [D loss: 0.417694, acc.: 79.69%] [G loss: 1.621619]\n",
      "329 [D loss: 0.390733, acc.: 81.25%] [G loss: 1.535107]\n",
      "330 [D loss: 0.389854, acc.: 81.25%] [G loss: 1.571364]\n",
      "331 [D loss: 0.372204, acc.: 81.25%] [G loss: 1.590113]\n",
      "332 [D loss: 0.357050, acc.: 81.25%] [G loss: 1.460832]\n",
      "333 [D loss: 0.353777, acc.: 81.25%] [G loss: 1.590824]\n",
      "334 [D loss: 0.336699, acc.: 82.81%] [G loss: 1.613914]\n",
      "335 [D loss: 0.347609, acc.: 82.81%] [G loss: 1.635947]\n",
      "336 [D loss: 0.316498, acc.: 87.50%] [G loss: 1.565072]\n",
      "337 [D loss: 0.369667, acc.: 82.81%] [G loss: 1.522623]\n",
      "338 [D loss: 0.348858, acc.: 84.38%] [G loss: 1.568950]\n",
      "339 [D loss: 0.367333, acc.: 82.81%] [G loss: 1.610131]\n",
      "340 [D loss: 0.333995, acc.: 82.81%] [G loss: 1.646761]\n",
      "341 [D loss: 0.384013, acc.: 81.25%] [G loss: 1.582553]\n",
      "342 [D loss: 0.383297, acc.: 82.81%] [G loss: 1.670615]\n",
      "343 [D loss: 0.399500, acc.: 81.25%] [G loss: 1.795994]\n",
      "344 [D loss: 0.392505, acc.: 81.25%] [G loss: 1.682349]\n",
      "345 [D loss: 0.397180, acc.: 81.25%] [G loss: 1.741104]\n",
      "346 [D loss: 0.404494, acc.: 81.25%] [G loss: 1.766115]\n",
      "347 [D loss: 0.385946, acc.: 81.25%] [G loss: 1.775872]\n",
      "348 [D loss: 0.383542, acc.: 81.25%] [G loss: 1.880855]\n",
      "349 [D loss: 0.354748, acc.: 81.25%] [G loss: 1.876542]\n",
      "350 [D loss: 0.342700, acc.: 82.81%] [G loss: 1.877314]\n",
      "351 [D loss: 0.344207, acc.: 87.50%] [G loss: 1.773603]\n",
      "352 [D loss: 0.328307, acc.: 85.94%] [G loss: 1.832396]\n",
      "353 [D loss: 0.365946, acc.: 85.94%] [G loss: 1.757983]\n",
      "354 [D loss: 0.346249, acc.: 87.50%] [G loss: 1.672832]\n",
      "355 [D loss: 0.385592, acc.: 82.81%] [G loss: 1.582795]\n",
      "356 [D loss: 0.413811, acc.: 84.38%] [G loss: 1.749229]\n",
      "357 [D loss: 0.414721, acc.: 81.25%] [G loss: 1.726040]\n",
      "358 [D loss: 0.410491, acc.: 82.81%] [G loss: 1.565272]\n",
      "359 [D loss: 0.402073, acc.: 82.81%] [G loss: 1.558154]\n",
      "360 [D loss: 0.398331, acc.: 81.25%] [G loss: 1.562341]\n",
      "361 [D loss: 0.377534, acc.: 81.25%] [G loss: 1.536813]\n",
      "362 [D loss: 0.373731, acc.: 81.25%] [G loss: 1.528736]\n",
      "363 [D loss: 0.343900, acc.: 81.25%] [G loss: 1.641982]\n",
      "364 [D loss: 0.323988, acc.: 81.25%] [G loss: 1.744387]\n",
      "365 [D loss: 0.315883, acc.: 84.38%] [G loss: 1.681878]\n",
      "366 [D loss: 0.320989, acc.: 87.50%] [G loss: 1.768430]\n",
      "367 [D loss: 0.304031, acc.: 89.06%] [G loss: 1.824718]\n",
      "368 [D loss: 0.280648, acc.: 89.06%] [G loss: 1.747270]\n",
      "369 [D loss: 0.294752, acc.: 87.50%] [G loss: 1.763568]\n",
      "370 [D loss: 0.275917, acc.: 89.06%] [G loss: 1.681597]\n",
      "371 [D loss: 0.289399, acc.: 90.62%] [G loss: 1.802343]\n",
      "372 [D loss: 0.362248, acc.: 87.50%] [G loss: 1.738304]\n",
      "373 [D loss: 0.326355, acc.: 87.50%] [G loss: 1.876916]\n",
      "374 [D loss: 0.337878, acc.: 87.50%] [G loss: 1.923094]\n",
      "375 [D loss: 0.387680, acc.: 87.50%] [G loss: 1.876495]\n",
      "376 [D loss: 0.397009, acc.: 84.38%] [G loss: 2.143317]\n",
      "377 [D loss: 0.402720, acc.: 81.25%] [G loss: 1.865616]\n",
      "378 [D loss: 0.424504, acc.: 79.69%] [G loss: 1.931182]\n",
      "379 [D loss: 0.413000, acc.: 81.25%] [G loss: 1.820829]\n",
      "380 [D loss: 0.382574, acc.: 81.25%] [G loss: 2.081364]\n",
      "381 [D loss: 0.331184, acc.: 85.94%] [G loss: 2.051492]\n",
      "382 [D loss: 0.332581, acc.: 87.50%] [G loss: 1.913305]\n",
      "383 [D loss: 0.291989, acc.: 89.06%] [G loss: 2.209283]\n",
      "384 [D loss: 0.285373, acc.: 87.50%] [G loss: 2.219519]\n",
      "385 [D loss: 0.302763, acc.: 87.50%] [G loss: 2.084043]\n",
      "386 [D loss: 0.312227, acc.: 87.50%] [G loss: 2.007339]\n",
      "387 [D loss: 0.333444, acc.: 87.50%] [G loss: 2.148296]\n",
      "388 [D loss: 0.362372, acc.: 85.94%] [G loss: 2.147404]\n",
      "389 [D loss: 0.357263, acc.: 85.94%] [G loss: 2.047613]\n",
      "390 [D loss: 0.440909, acc.: 82.81%] [G loss: 1.787394]\n",
      "391 [D loss: 0.417273, acc.: 84.38%] [G loss: 1.854100]\n",
      "392 [D loss: 0.419518, acc.: 84.38%] [G loss: 1.913910]\n",
      "393 [D loss: 0.433099, acc.: 82.81%] [G loss: 1.804219]\n",
      "394 [D loss: 0.412037, acc.: 82.81%] [G loss: 1.741047]\n",
      "395 [D loss: 0.389539, acc.: 82.81%] [G loss: 1.635001]\n",
      "396 [D loss: 0.367256, acc.: 82.81%] [G loss: 1.705922]\n",
      "397 [D loss: 0.338993, acc.: 81.25%] [G loss: 1.747098]\n",
      "398 [D loss: 0.307913, acc.: 87.50%] [G loss: 1.759488]\n",
      "399 [D loss: 0.277225, acc.: 89.06%] [G loss: 1.785829]\n",
      "400 [D loss: 0.289951, acc.: 89.06%] [G loss: 1.835576]\n"
     ]
    }
   ],
   "source": [
    "# start training of GAN's model\n",
    "model = GAN\n",
    "synthesizer = model(gan_args)\n",
    "synthesizer.train(df, train_args)"
   ]
  },
  {
   "cell_type": "code",
   "execution_count": 30,
   "metadata": {},
   "outputs": [
    {
     "name": "stdout",
     "output_type": "stream",
     "text": [
      "C:\\Users\\shan-\\Desktop\\Evasion\\model\n",
      "C:\\Users\\shan-\\Desktop\\Evasion\\model\\gan\n"
     ]
    },
    {
     "name": "stderr",
     "output_type": "stream",
     "text": [
      "A subdirectory or file gan already exists.\n",
      "A subdirectory or file saved already exists.\n"
     ]
    }
   ],
   "source": [
    "# making other directories inside model's directory\n",
    "%cd model\n",
    "!mkdir gan\n",
    "%cd gan\n",
    "!mkdir saved"
   ]
  },
  {
   "cell_type": "code",
   "execution_count": 31,
   "metadata": {},
   "outputs": [
    {
     "name": "stdout",
     "output_type": "stream",
     "text": [
      "C:\\Users\\shan-\\Desktop\\Evasion\n"
     ]
    }
   ],
   "source": [
    "%cd C:\\Users\\shan-\\Desktop\\Evasion"
   ]
  },
  {
   "cell_type": "code",
   "execution_count": 32,
   "metadata": {},
   "outputs": [],
   "source": [
    "# Saving trained generator \n",
    "synthesizer.save('model/gan/saved', 'generator_bots')"
   ]
  },
  {
   "cell_type": "code",
   "execution_count": 33,
   "metadata": {},
   "outputs": [
    {
     "name": "stdout",
     "output_type": "stream",
     "text": [
      "Model: \"functional_7\"\n",
      "_________________________________________________________________\n",
      "Layer (type)                 Output Shape              Param #   \n",
      "=================================================================\n",
      "input_4 (InputLayer)         [(32, 32)]                0         \n",
      "_________________________________________________________________\n",
      "dense_8 (Dense)              (32, 128)                 4224      \n",
      "_________________________________________________________________\n",
      "dense_9 (Dense)              (32, 256)                 33024     \n",
      "_________________________________________________________________\n",
      "dense_10 (Dense)             (32, 512)                 131584    \n",
      "_________________________________________________________________\n",
      "dense_11 (Dense)             (32, 61)                  31293     \n",
      "=================================================================\n",
      "Total params: 200,125\n",
      "Trainable params: 200,125\n",
      "Non-trainable params: 0\n",
      "_________________________________________________________________\n"
     ]
    },
    {
     "data": {
      "image/png": "[encoded data removed]",
      "text/plain": [
       "<IPython.core.display.Image object>"
      ]
     },
     "execution_count": 33,
     "metadata": {},
     "output_type": "execute_result"
    }
   ],
   "source": [
    "# from keras.utils.vis_utils import plot_model\n",
    "# Model summary of generator\n",
    "synthesizer.generator.summary()\n",
    "plot_model(synthesizer.generator, to_file='generator_plot.png', show_shapes=True, show_layer_names=True)"
   ]
  },
  {
   "cell_type": "code",
   "execution_count": 34,
   "metadata": {},
   "outputs": [
    {
     "name": "stdout",
     "output_type": "stream",
     "text": [
      "Model: \"functional_9\"\n",
      "_________________________________________________________________\n",
      "Layer (type)                 Output Shape              Param #   \n",
      "=================================================================\n",
      "input_5 (InputLayer)         [(32, 61)]                0         \n",
      "_________________________________________________________________\n",
      "dense_12 (Dense)             (32, 512)                 31744     \n",
      "_________________________________________________________________\n",
      "dropout_2 (Dropout)          (32, 512)                 0         \n",
      "_________________________________________________________________\n",
      "dense_13 (Dense)             (32, 256)                 131328    \n",
      "_________________________________________________________________\n",
      "dropout_3 (Dropout)          (32, 256)                 0         \n",
      "_________________________________________________________________\n",
      "dense_14 (Dense)             (32, 128)                 32896     \n",
      "_________________________________________________________________\n",
      "dense_15 (Dense)             (32, 1)                   129       \n",
      "=================================================================\n",
      "Total params: 196,097\n",
      "Trainable params: 0\n",
      "Non-trainable params: 196,097\n",
      "_________________________________________________________________\n"
     ]
    },
    {
     "data": {
      "image/png": "[encoded data removed]",
      "text/plain": [
       "<IPython.core.display.Image object>"
      ]
     },
     "execution_count": 34,
     "metadata": {},
     "output_type": "execute_result"
    }
   ],
   "source": [
    "# Model summary of discriminator\n",
    "synthesizer.discriminator.summary()\n",
    "plot_model(synthesizer.discriminator, to_file='discrimina_plot.png', show_shapes=True, show_layer_names=True)"
   ]
  },
  {
   "cell_type": "markdown",
   "metadata": {},
   "source": [
    "# Evaluation of generated data"
   ]
  },
  {
   "cell_type": "code",
   "execution_count": 35,
   "metadata": {},
   "outputs": [],
   "source": [
    "models = {'GAN': ['GAN', False, synthesizer.generator]}"
   ]
  },
  {
   "cell_type": "code",
   "execution_count": 36,
   "metadata": {},
   "outputs": [
    {
     "name": "stderr",
     "output_type": "stream",
     "text": [
      "No handles with labels found to put in legend.\n"
     ]
    },
    {
     "data": {
      "image/png": "[encoded data removed]",
      "text/plain": [
       "<Figure size 1008x1080 with 10 Axes>"
      ]
     },
     "metadata": {
      "needs_background": "light"
     },
     "output_type": "display_data"
    }
   ],
   "source": [
    "# Setup parameters visualization parameters\n",
    "seed = 17\n",
    "test_size = 1000 # number of bots\n",
    "noise_dim = 32\n",
    "\n",
    "np.random.seed(seed)\n",
    "z = np.random.normal(size=(test_size, noise_dim))\n",
    "real = synthesizer.get_data_batch(train=df, batch_size=test_size, seed=seed)\n",
    "real_samples = pd.DataFrame(real, columns=data_cols)\n",
    "\n",
    "model_names = ['GAN']\n",
    "colors = ['deepskyblue','blue']\n",
    "markers = ['^','o']\n",
    "\n",
    "col1, col2 = 'Flow Duration', 'Subflow Fwd Bytes'\n",
    "\n",
    "base_dir = 'model/'\n",
    "\n",
    "#Actual bots data visualisation\n",
    "# model_steps = [ 0, 100, 200, 300, 400, 700, 1000, 1300, 1500, 1700, 2000]\n",
    "model_steps = [ 0, 100, 200, 300, 400]\n",
    "rows = len(model_steps)\n",
    "columns = 5\n",
    "\n",
    "axarr = [[]]*len(model_steps)\n",
    "\n",
    "fig = plt.figure(figsize=(14,rows*3))\n",
    "\n",
    "for model_step_ix, model_step in enumerate(model_steps):        \n",
    "    axarr[model_step_ix] = plt.subplot(rows, columns, model_step_ix*columns + 1)\n",
    "    \n",
    "    for group, color, marker in zip(real_samples.groupby('Label'), colors, markers):\n",
    "        plt.scatter( group[1][[col1]], group[1][[col2]], marker=marker, edgecolors=color, facecolors='none' )\n",
    "    \n",
    "    plt.title('Actual Bots Data')\n",
    "    plt.ylabel(col2) # Only add y label to left plot\n",
    "    plt.xlabel(col1)\n",
    "    xlims, ylims = axarr[model_step_ix].get_xlim(), axarr[model_step_ix].get_ylim()\n",
    "    \n",
    "    if model_step_ix == 0: \n",
    "        legend = plt.legend()\n",
    "        legend.get_frame().set_facecolor('white')\n",
    "    \n",
    "    i=0\n",
    "    [model_name, with_class, generator_model] = models['GAN']\n",
    "\n",
    "    generator_model.load_weights( base_dir + '_generator_model_weights_step_'+str(model_step)+'.h5')\n",
    "\n",
    "    ax = plt.subplot(rows, columns, model_step_ix*columns + 1 + (i+1) )\n",
    "\n",
    "    g_z = generator_model.predict(z)\n",
    "    gen_samples = pd.DataFrame(g_z, columns=data_cols)\n",
    "    plt.scatter( gen_samples[[col1]], gen_samples[[col2]], marker=markers[0], edgecolors=colors[0], facecolors='none' )\n",
    "    plt.title(\"Generated Data\")   \n",
    "    plt.xlabel(data_cols[0])\n",
    "    ax.set_xlim(xlims), ax.set_ylim(ylims)\n",
    "\n",
    "plt.suptitle('', size=16, fontweight='bold')\n",
    "plt.tight_layout(rect=[0.075,0,1,0.95])\n",
    "\n",
    "# Adding text labels for traning steps\n",
    "vpositions = np.array([ i._position.bounds[1] for i in axarr ])\n",
    "vpositions += ((vpositions[0] - vpositions[1]) * 0.35 )\n",
    "for model_step_ix, model_step in enumerate( model_steps ):\n",
    "    fig.text( 0.05, vpositions[model_step_ix], 'training\\nstep\\n'+str(model_step), ha='center', va='center', size=12)\n",
    "\n",
    "plt.savefig('Comparison_of_GAN_outputs.png')"
   ]
  },
  {
   "cell_type": "code",
   "execution_count": 37,
   "metadata": {},
   "outputs": [
    {
     "name": "stdout",
     "output_type": "stream",
     "text": [
      "(1000, 61)\n",
      "(1748, 61) (1000, 61)\n"
     ]
    }
   ],
   "source": [
    "print(gen_samples.shape)\n",
    "gen_samples = gen_samples.loc[:, ~gen_samples.columns.str.contains('^Unnamed')]\n",
    "print(df.shape, gen_samples.shape)"
   ]
  },
  {
   "cell_type": "code",
   "execution_count": 38,
   "metadata": {},
   "outputs": [
    {
     "name": "stdout",
     "output_type": "stream",
     "text": [
      "1    1000\n",
      "Name: Label, dtype: int64\n"
     ]
    }
   ],
   "source": [
    "# normalizing GAN generated Labels from real number values to 0 or 1 \n",
    "label = gen_samples['Label']\n",
    "label[label < 0] = 0\n",
    "label[label > 1] = 1\n",
    "label = np.round(label)\n",
    "rem_float = [math.floor(float(i)) for i in label]\n",
    "gen_samples['Label'] = rem_float\n",
    "print(gen_samples['Label'].value_counts())\n",
    "gen_samples.to_csv('./datasets/new_gan_bots.csv')"
   ]
  },
  {
   "cell_type": "code",
   "execution_count": 25,
   "metadata": {},
   "outputs": [
    {
     "name": "stderr",
     "output_type": "stream",
     "text": [
      "No handles with labels found to put in legend.\n"
     ]
    },
    {
     "data": {
      "image/png": "[encoded data removed]",
      "text/plain": [
       "<Figure size 432x288 with 1 Axes>"
      ]
     },
     "metadata": {
      "needs_background": "light"
     },
     "output_type": "display_data"
    }
   ],
   "source": [
    "# %matplotlib inline\n",
    "X = ['SVM','KNN','LR','NB', 'DT']\n",
    "Y = [95.89, 99.61, 94.89, 58.72 , 99.91]\n",
    "Z = [95.69, 99.30, 94.96, 37.30 , 99.85]\n",
    "A = [87.49, 99.13, 83.98, 96.15 , 99.81]\n",
    "\n",
    "def subcategorybar(X, vals, width=0.8):\n",
    "    n = len(vals)\n",
    "    _X = np.arange(len(X))\n",
    "    for i in range(n):\n",
    "        plt.bar(_X - width/2. + i/float(n)*width, vals[i], \n",
    "                width=width/float(n), align=\"edge\")   \n",
    "    plt.xticks(_X, X)\n",
    "    plt.xlabel('Model')\n",
    "    plt.legend(loc=\"upper left\")\n",
    "    plt.gca().legend(('Accuracy','Precision', 'Recall'), loc='center left', bbox_to_anchor=(1, 0.5))\n",
    "    \n",
    "subcategorybar(X, [Y,Z,A])\n",
    "plt.show()"
   ]
  },
  {
   "cell_type": "code",
   "execution_count": null,
   "metadata": {},
   "outputs": [],
   "source": []
  },
  {
   "cell_type": "code",
   "execution_count": null,
   "metadata": {},
   "outputs": [],
   "source": []
  }
 ],
 "metadata": {
  "kernelspec": {
   "display_name": "Python 3",
   "language": "python",
   "name": "python3"
  },
  "language_info": {
   "codemirror_mode": {
    "name": "ipython",
    "version": 3
   },
   "file_extension": ".py",
   "mimetype": "text/x-python",
   "name": "python",
   "nbconvert_exporter": "python",
   "pygments_lexer": "ipython3",
   "version": "3.8.3"
  }
 },
 "nbformat": 4,
 "nbformat_minor": 4
}
